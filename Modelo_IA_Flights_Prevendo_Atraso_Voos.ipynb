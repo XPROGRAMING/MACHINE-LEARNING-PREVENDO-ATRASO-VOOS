{
  "cells": [
    {
      "cell_type": "markdown",
      "metadata": {
        "id": "view-in-github",
        "colab_type": "text"
      },
      "source": [
        "<a href=\"https://colab.research.google.com/github/XPROGRAMING/MACHINE-LEARNING-PREVENDO-ATRASO-VOOS/blob/main/Modelo_IA_Flights_Prevendo_Atraso_Voos.ipynb\" target=\"_parent\"><img src=\"https://colab.research.google.com/assets/colab-badge.svg\" alt=\"Open In Colab\"/></a>"
      ]
    },
    {
      "cell_type": "markdown",
      "metadata": {
        "id": "j1YGJi_c5qA4"
      },
      "source": [
        "#Explorando os dados"
      ]
    },
    {
      "cell_type": "code",
      "execution_count": null,
      "metadata": {
        "id": "azu2FsSj5qBE"
      },
      "outputs": [],
      "source": [
        "import pandas as pd"
      ]
    },
    {
      "cell_type": "code",
      "execution_count": null,
      "metadata": {
        "id": "ULPzyIgD5qBH",
        "outputId": "ac6e53d7-74b0-4743-a363-2af991ea2e09"
      },
      "outputs": [
        {
          "data": {
            "text/html": [
              "<div>\n",
              "<style scoped>\n",
              "    .dataframe tbody tr th:only-of-type {\n",
              "        vertical-align: middle;\n",
              "    }\n",
              "\n",
              "    .dataframe tbody tr th {\n",
              "        vertical-align: top;\n",
              "    }\n",
              "\n",
              "    .dataframe thead th {\n",
              "        text-align: right;\n",
              "    }\n",
              "</style>\n",
              "<table border=\"1\" class=\"dataframe\">\n",
              "  <thead>\n",
              "    <tr style=\"text-align: right;\">\n",
              "      <th></th>\n",
              "      <th>flight_id</th>\n",
              "      <th>airline</th>\n",
              "      <th>aircraft_type</th>\n",
              "      <th>schengen</th>\n",
              "      <th>origin</th>\n",
              "      <th>arrival_time</th>\n",
              "      <th>departure_time</th>\n",
              "      <th>day</th>\n",
              "      <th>year</th>\n",
              "      <th>is_holiday</th>\n",
              "      <th>delay</th>\n",
              "    </tr>\n",
              "  </thead>\n",
              "  <tbody>\n",
              "    <tr>\n",
              "      <th>0</th>\n",
              "      <td>26</td>\n",
              "      <td>MM</td>\n",
              "      <td>Airbus A320</td>\n",
              "      <td>non-schengen</td>\n",
              "      <td>TCY</td>\n",
              "      <td>8.885071</td>\n",
              "      <td>10.885071</td>\n",
              "      <td>0</td>\n",
              "      <td>2010</td>\n",
              "      <td>False</td>\n",
              "      <td>70.205981</td>\n",
              "    </tr>\n",
              "    <tr>\n",
              "      <th>1</th>\n",
              "      <td>10</td>\n",
              "      <td>YE</td>\n",
              "      <td>Airbus A320</td>\n",
              "      <td>non-schengen</td>\n",
              "      <td>TCY</td>\n",
              "      <td>8.939996</td>\n",
              "      <td>11.939996</td>\n",
              "      <td>0</td>\n",
              "      <td>2010</td>\n",
              "      <td>False</td>\n",
              "      <td>38.484609</td>\n",
              "    </tr>\n",
              "    <tr>\n",
              "      <th>2</th>\n",
              "      <td>3</td>\n",
              "      <td>BZ</td>\n",
              "      <td>Embraer E175</td>\n",
              "      <td>schengen</td>\n",
              "      <td>TZF</td>\n",
              "      <td>18.635384</td>\n",
              "      <td>22.635384</td>\n",
              "      <td>0</td>\n",
              "      <td>2010</td>\n",
              "      <td>False</td>\n",
              "      <td>2.388305</td>\n",
              "    </tr>\n",
              "    <tr>\n",
              "      <th>3</th>\n",
              "      <td>28</td>\n",
              "      <td>BZ</td>\n",
              "      <td>Airbus A330</td>\n",
              "      <td>non-schengen</td>\n",
              "      <td>EMM</td>\n",
              "      <td>15.967963</td>\n",
              "      <td>17.967963</td>\n",
              "      <td>0</td>\n",
              "      <td>2010</td>\n",
              "      <td>False</td>\n",
              "      <td>19.138491</td>\n",
              "    </tr>\n",
              "    <tr>\n",
              "      <th>4</th>\n",
              "      <td>15</td>\n",
              "      <td>BZ</td>\n",
              "      <td>Airbus A330</td>\n",
              "      <td>non-schengen</td>\n",
              "      <td>FJB</td>\n",
              "      <td>16.571894</td>\n",
              "      <td>19.571894</td>\n",
              "      <td>0</td>\n",
              "      <td>2010</td>\n",
              "      <td>False</td>\n",
              "      <td>15.016271</td>\n",
              "    </tr>\n",
              "  </tbody>\n",
              "</table>\n",
              "</div>"
            ],
            "text/plain": [
              "   flight_id airline aircraft_type      schengen origin  arrival_time  \\\n",
              "0         26      MM   Airbus A320  non-schengen    TCY      8.885071   \n",
              "1         10      YE   Airbus A320  non-schengen    TCY      8.939996   \n",
              "2          3      BZ  Embraer E175      schengen    TZF     18.635384   \n",
              "3         28      BZ   Airbus A330  non-schengen    EMM     15.967963   \n",
              "4         15      BZ   Airbus A330  non-schengen    FJB     16.571894   \n",
              "\n",
              "   departure_time  day  year  is_holiday      delay  \n",
              "0       10.885071    0  2010       False  70.205981  \n",
              "1       11.939996    0  2010       False  38.484609  \n",
              "2       22.635384    0  2010       False   2.388305  \n",
              "3       17.967963    0  2010       False  19.138491  \n",
              "4       19.571894    0  2010       False  15.016271  "
            ]
          },
          "execution_count": 2,
          "metadata": {},
          "output_type": "execute_result"
        }
      ],
      "source": [
        "dados = pd.read_csv('flights.csv')\n",
        "dados.head()"
      ]
    },
    {
      "cell_type": "code",
      "execution_count": null,
      "metadata": {
        "id": "krBggWOB5qBJ",
        "outputId": "4bd24664-8803-4aaf-a680-ca84cb329cc1"
      },
      "outputs": [
        {
          "data": {
            "text/html": [
              "<div>\n",
              "<style scoped>\n",
              "    .dataframe tbody tr th:only-of-type {\n",
              "        vertical-align: middle;\n",
              "    }\n",
              "\n",
              "    .dataframe tbody tr th {\n",
              "        vertical-align: top;\n",
              "    }\n",
              "\n",
              "    .dataframe thead th {\n",
              "        text-align: right;\n",
              "    }\n",
              "</style>\n",
              "<table border=\"1\" class=\"dataframe\">\n",
              "  <thead>\n",
              "    <tr style=\"text-align: right;\">\n",
              "      <th></th>\n",
              "      <th>flight_id</th>\n",
              "      <th>airline</th>\n",
              "      <th>aircraft_type</th>\n",
              "      <th>schengen</th>\n",
              "      <th>origin</th>\n",
              "      <th>arrival_time</th>\n",
              "      <th>departure_time</th>\n",
              "      <th>day</th>\n",
              "      <th>year</th>\n",
              "      <th>is_holiday</th>\n",
              "      <th>delay</th>\n",
              "    </tr>\n",
              "  </thead>\n",
              "  <tbody>\n",
              "    <tr>\n",
              "      <th>71170</th>\n",
              "      <td>3</td>\n",
              "      <td>BZ</td>\n",
              "      <td>Embraer E175</td>\n",
              "      <td>schengen</td>\n",
              "      <td>TZF</td>\n",
              "      <td>18.635384</td>\n",
              "      <td>22.635384</td>\n",
              "      <td>364</td>\n",
              "      <td>2022</td>\n",
              "      <td>True</td>\n",
              "      <td>25.677277</td>\n",
              "    </tr>\n",
              "    <tr>\n",
              "      <th>71171</th>\n",
              "      <td>17</td>\n",
              "      <td>BZ</td>\n",
              "      <td>Airbus A330</td>\n",
              "      <td>non-schengen</td>\n",
              "      <td>CNU</td>\n",
              "      <td>16.718722</td>\n",
              "      <td>21.718722</td>\n",
              "      <td>364</td>\n",
              "      <td>2022</td>\n",
              "      <td>True</td>\n",
              "      <td>52.624348</td>\n",
              "    </tr>\n",
              "    <tr>\n",
              "      <th>71172</th>\n",
              "      <td>7</td>\n",
              "      <td>MM</td>\n",
              "      <td>Boeing 787</td>\n",
              "      <td>schengen</td>\n",
              "      <td>TZF</td>\n",
              "      <td>8.564949</td>\n",
              "      <td>13.564949</td>\n",
              "      <td>364</td>\n",
              "      <td>2022</td>\n",
              "      <td>True</td>\n",
              "      <td>56.167080</td>\n",
              "    </tr>\n",
              "    <tr>\n",
              "      <th>71173</th>\n",
              "      <td>5</td>\n",
              "      <td>BZ</td>\n",
              "      <td>Airbus A320</td>\n",
              "      <td>schengen</td>\n",
              "      <td>ZQO</td>\n",
              "      <td>9.344097</td>\n",
              "      <td>12.344097</td>\n",
              "      <td>364</td>\n",
              "      <td>2022</td>\n",
              "      <td>True</td>\n",
              "      <td>56.758844</td>\n",
              "    </tr>\n",
              "    <tr>\n",
              "      <th>71174</th>\n",
              "      <td>29</td>\n",
              "      <td>BZ</td>\n",
              "      <td>Boeing 737</td>\n",
              "      <td>schengen</td>\n",
              "      <td>ZQO</td>\n",
              "      <td>8.591208</td>\n",
              "      <td>11.591208</td>\n",
              "      <td>364</td>\n",
              "      <td>2022</td>\n",
              "      <td>True</td>\n",
              "      <td>41.401648</td>\n",
              "    </tr>\n",
              "  </tbody>\n",
              "</table>\n",
              "</div>"
            ],
            "text/plain": [
              "       flight_id airline aircraft_type      schengen origin  arrival_time  \\\n",
              "71170          3      BZ  Embraer E175      schengen    TZF     18.635384   \n",
              "71171         17      BZ   Airbus A330  non-schengen    CNU     16.718722   \n",
              "71172          7      MM    Boeing 787      schengen    TZF      8.564949   \n",
              "71173          5      BZ   Airbus A320      schengen    ZQO      9.344097   \n",
              "71174         29      BZ    Boeing 737      schengen    ZQO      8.591208   \n",
              "\n",
              "       departure_time  day  year  is_holiday      delay  \n",
              "71170       22.635384  364  2022        True  25.677277  \n",
              "71171       21.718722  364  2022        True  52.624348  \n",
              "71172       13.564949  364  2022        True  56.167080  \n",
              "71173       12.344097  364  2022        True  56.758844  \n",
              "71174       11.591208  364  2022        True  41.401648  "
            ]
          },
          "execution_count": 3,
          "metadata": {},
          "output_type": "execute_result"
        }
      ],
      "source": [
        "dados.tail()"
      ]
    },
    {
      "cell_type": "code",
      "execution_count": null,
      "metadata": {
        "id": "HRkNRG4P5qBJ",
        "outputId": "5e344683-c329-481c-f223-578b09cc0a36"
      },
      "outputs": [
        {
          "data": {
            "text/plain": [
              "(71175, 11)"
            ]
          },
          "execution_count": 4,
          "metadata": {},
          "output_type": "execute_result"
        }
      ],
      "source": [
        "dados.shape"
      ]
    },
    {
      "cell_type": "code",
      "execution_count": null,
      "metadata": {
        "id": "ZjZNVNc_5qBJ",
        "outputId": "3c02d6cd-a526-4fe6-a53c-ea9cae9460ad"
      },
      "outputs": [
        {
          "data": {
            "text/html": [
              "<div>\n",
              "<style scoped>\n",
              "    .dataframe tbody tr th:only-of-type {\n",
              "        vertical-align: middle;\n",
              "    }\n",
              "\n",
              "    .dataframe tbody tr th {\n",
              "        vertical-align: top;\n",
              "    }\n",
              "\n",
              "    .dataframe thead th {\n",
              "        text-align: right;\n",
              "    }\n",
              "</style>\n",
              "<table border=\"1\" class=\"dataframe\">\n",
              "  <thead>\n",
              "    <tr style=\"text-align: right;\">\n",
              "      <th></th>\n",
              "      <th>flight_id</th>\n",
              "      <th>arrival_time</th>\n",
              "      <th>departure_time</th>\n",
              "      <th>day</th>\n",
              "      <th>year</th>\n",
              "      <th>delay</th>\n",
              "    </tr>\n",
              "  </thead>\n",
              "  <tbody>\n",
              "    <tr>\n",
              "      <th>count</th>\n",
              "      <td>71175.000000</td>\n",
              "      <td>71175.000000</td>\n",
              "      <td>71175.000000</td>\n",
              "      <td>71175.000000</td>\n",
              "      <td>71175.000000</td>\n",
              "      <td>71175.000000</td>\n",
              "    </tr>\n",
              "    <tr>\n",
              "      <th>mean</th>\n",
              "      <td>15.465135</td>\n",
              "      <td>13.283159</td>\n",
              "      <td>16.480222</td>\n",
              "      <td>182.000000</td>\n",
              "      <td>2016.000000</td>\n",
              "      <td>12.548378</td>\n",
              "    </tr>\n",
              "    <tr>\n",
              "      <th>std</th>\n",
              "      <td>8.649646</td>\n",
              "      <td>4.023380</td>\n",
              "      <td>4.143705</td>\n",
              "      <td>105.366769</td>\n",
              "      <td>3.741684</td>\n",
              "      <td>23.125349</td>\n",
              "    </tr>\n",
              "    <tr>\n",
              "      <th>min</th>\n",
              "      <td>1.000000</td>\n",
              "      <td>7.065594</td>\n",
              "      <td>10.065594</td>\n",
              "      <td>0.000000</td>\n",
              "      <td>2010.000000</td>\n",
              "      <td>-41.028033</td>\n",
              "    </tr>\n",
              "    <tr>\n",
              "      <th>25%</th>\n",
              "      <td>8.000000</td>\n",
              "      <td>8.939996</td>\n",
              "      <td>12.668655</td>\n",
              "      <td>91.000000</td>\n",
              "      <td>2013.000000</td>\n",
              "      <td>-4.412876</td>\n",
              "    </tr>\n",
              "    <tr>\n",
              "      <th>50%</th>\n",
              "      <td>15.000000</td>\n",
              "      <td>14.258911</td>\n",
              "      <td>16.376052</td>\n",
              "      <td>182.000000</td>\n",
              "      <td>2016.000000</td>\n",
              "      <td>9.740454</td>\n",
              "    </tr>\n",
              "    <tr>\n",
              "      <th>75%</th>\n",
              "      <td>23.000000</td>\n",
              "      <td>16.909690</td>\n",
              "      <td>20.041281</td>\n",
              "      <td>273.000000</td>\n",
              "      <td>2019.000000</td>\n",
              "      <td>27.650853</td>\n",
              "    </tr>\n",
              "    <tr>\n",
              "      <th>max</th>\n",
              "      <td>30.000000</td>\n",
              "      <td>19.341235</td>\n",
              "      <td>23.341235</td>\n",
              "      <td>364.000000</td>\n",
              "      <td>2022.000000</td>\n",
              "      <td>125.632352</td>\n",
              "    </tr>\n",
              "  </tbody>\n",
              "</table>\n",
              "</div>"
            ],
            "text/plain": [
              "          flight_id  arrival_time  departure_time           day          year  \\\n",
              "count  71175.000000  71175.000000    71175.000000  71175.000000  71175.000000   \n",
              "mean      15.465135     13.283159       16.480222    182.000000   2016.000000   \n",
              "std        8.649646      4.023380        4.143705    105.366769      3.741684   \n",
              "min        1.000000      7.065594       10.065594      0.000000   2010.000000   \n",
              "25%        8.000000      8.939996       12.668655     91.000000   2013.000000   \n",
              "50%       15.000000     14.258911       16.376052    182.000000   2016.000000   \n",
              "75%       23.000000     16.909690       20.041281    273.000000   2019.000000   \n",
              "max       30.000000     19.341235       23.341235    364.000000   2022.000000   \n",
              "\n",
              "              delay  \n",
              "count  71175.000000  \n",
              "mean      12.548378  \n",
              "std       23.125349  \n",
              "min      -41.028033  \n",
              "25%       -4.412876  \n",
              "50%        9.740454  \n",
              "75%       27.650853  \n",
              "max      125.632352  "
            ]
          },
          "execution_count": 5,
          "metadata": {},
          "output_type": "execute_result"
        }
      ],
      "source": [
        "dados.describe()"
      ]
    },
    {
      "cell_type": "code",
      "execution_count": null,
      "metadata": {
        "id": "t42FZxPv5qBK",
        "outputId": "87589195-73b2-49fc-eb75-95a50f05e146"
      },
      "outputs": [
        {
          "data": {
            "text/html": [
              "<div>\n",
              "<style scoped>\n",
              "    .dataframe tbody tr th:only-of-type {\n",
              "        vertical-align: middle;\n",
              "    }\n",
              "\n",
              "    .dataframe tbody tr th {\n",
              "        vertical-align: top;\n",
              "    }\n",
              "\n",
              "    .dataframe thead th {\n",
              "        text-align: right;\n",
              "    }\n",
              "</style>\n",
              "<table border=\"1\" class=\"dataframe\">\n",
              "  <thead>\n",
              "    <tr style=\"text-align: right;\">\n",
              "      <th></th>\n",
              "      <th>airline</th>\n",
              "      <th>aircraft_type</th>\n",
              "      <th>schengen</th>\n",
              "      <th>origin</th>\n",
              "    </tr>\n",
              "  </thead>\n",
              "  <tbody>\n",
              "    <tr>\n",
              "      <th>count</th>\n",
              "      <td>71175</td>\n",
              "      <td>71175</td>\n",
              "      <td>71175</td>\n",
              "      <td>71175</td>\n",
              "    </tr>\n",
              "    <tr>\n",
              "      <th>unique</th>\n",
              "      <td>3</td>\n",
              "      <td>6</td>\n",
              "      <td>2</td>\n",
              "      <td>10</td>\n",
              "    </tr>\n",
              "    <tr>\n",
              "      <th>top</th>\n",
              "      <td>BZ</td>\n",
              "      <td>Airbus A320</td>\n",
              "      <td>schengen</td>\n",
              "      <td>TZF</td>\n",
              "    </tr>\n",
              "    <tr>\n",
              "      <th>freq</th>\n",
              "      <td>47598</td>\n",
              "      <td>30778</td>\n",
              "      <td>42569</td>\n",
              "      <td>14162</td>\n",
              "    </tr>\n",
              "  </tbody>\n",
              "</table>\n",
              "</div>"
            ],
            "text/plain": [
              "       airline aircraft_type  schengen origin\n",
              "count    71175         71175     71175  71175\n",
              "unique       3             6         2     10\n",
              "top         BZ   Airbus A320  schengen    TZF\n",
              "freq     47598         30778     42569  14162"
            ]
          },
          "execution_count": 6,
          "metadata": {},
          "output_type": "execute_result"
        }
      ],
      "source": [
        "dados.describe(include='O')"
      ]
    },
    {
      "cell_type": "code",
      "execution_count": null,
      "metadata": {
        "id": "aqHp0sqr5qBK",
        "outputId": "5c41ee68-193c-4af7-bfa4-3ffa85ae5ede"
      },
      "outputs": [
        {
          "name": "stdout",
          "output_type": "stream",
          "text": [
            "<class 'pandas.core.frame.DataFrame'>\n",
            "RangeIndex: 71175 entries, 0 to 71174\n",
            "Data columns (total 11 columns):\n",
            " #   Column          Non-Null Count  Dtype  \n",
            "---  ------          --------------  -----  \n",
            " 0   flight_id       71175 non-null  int64  \n",
            " 1   airline         71175 non-null  object \n",
            " 2   aircraft_type   71175 non-null  object \n",
            " 3   schengen        71175 non-null  object \n",
            " 4   origin          71175 non-null  object \n",
            " 5   arrival_time    71175 non-null  float64\n",
            " 6   departure_time  71175 non-null  float64\n",
            " 7   day             71175 non-null  int64  \n",
            " 8   year            71175 non-null  int64  \n",
            " 9   is_holiday      71175 non-null  bool   \n",
            " 10  delay           71175 non-null  float64\n",
            "dtypes: bool(1), float64(3), int64(3), object(4)\n",
            "memory usage: 5.5+ MB\n",
            "None\n"
          ]
        }
      ],
      "source": [
        "print(dados.info())"
      ]
    },
    {
      "cell_type": "markdown",
      "metadata": {
        "id": "mOZN88qd5qBK"
      },
      "source": [
        "#Visualizações graficas dos dados"
      ]
    },
    {
      "cell_type": "code",
      "execution_count": null,
      "metadata": {
        "id": "GzbarPsc5qBL"
      },
      "outputs": [],
      "source": [
        "import seaborn as sns\n",
        "import matplotlib.pyplot as plt"
      ]
    },
    {
      "cell_type": "code",
      "execution_count": null,
      "metadata": {
        "id": "9kRNzLBW5qBL",
        "outputId": "b58bed1c-bf15-46ea-d059-904322a8e210"
      },
      "outputs": [
        {
          "data": {
            "image/png": "[encoded data removed]",
            "text/plain": [
              "<Figure size 640x480 with 1 Axes>"
            ]
          },
          "metadata": {},
          "output_type": "display_data"
        },
        {
          "data": {
            "image/png": "[encoded data removed]",
            "text/plain": [
              "<Figure size 640x480 with 1 Axes>"
            ]
          },
          "metadata": {},
          "output_type": "display_data"
        }
      ],
      "source": [
        "average_delay = dados.groupby('airline')['delay'].mean().reset_index()\n",
        "sns.barplot(x='airline', y='delay', data=average_delay)\n",
        "plt.title('Companhias aéreas vs atrasos médios')\n",
        "plt.xlabel('Companhias aéreas')\n",
        "plt.ylabel('Atraso médio em minutos')\n",
        "plt.show()\n",
        "\n",
        "sns.countplot(data=dados, x='airline')\n",
        "plt.title('Número de voos por companhia aérea')\n",
        "plt.xlabel('Companhia aérea')\n",
        "plt.ylabel('Número de voos')\n",
        "plt.show()\n"
      ]
    },
    {
      "cell_type": "code",
      "execution_count": null,
      "metadata": {
        "id": "EPRI5buU5qBM",
        "outputId": "f631a74a-2904-4c0e-de93-46cc8e6beddb"
      },
      "outputs": [
        {
          "data": {
            "image/png": "[encoded data removed]",
            "text/plain": [
              "<Figure size 640x480 with 1 Axes>"
            ]
          },
          "metadata": {},
          "output_type": "display_data"
        },
        {
          "data": {
            "image/png": "[encoded data removed]",
            "text/plain": [
              "<Figure size 640x480 with 1 Axes>"
            ]
          },
          "metadata": {},
          "output_type": "display_data"
        }
      ],
      "source": [
        "average_delay = dados.groupby('schengen')['delay'].mean().reset_index()\n",
        "sns.barplot(x='schengen', y='delay', data=average_delay)\n",
        "plt.title('Tipo do voo vs atrasos médios')\n",
        "plt.xlabel('Tipo do voo')\n",
        "plt.ylabel('Atraso médio em minutos')\n",
        "plt.show()\n",
        "\n",
        "sns.countplot(data=dados, x='schengen')\n",
        "plt.title('Número de voos por companhia aérea')\n",
        "plt.xlabel('Tipo de voo')\n",
        "plt.ylabel('Número de voos')\n",
        "plt.show()\n"
      ]
    },
    {
      "cell_type": "markdown",
      "metadata": {
        "id": "XQFB_vRD5qBM"
      },
      "source": [
        "#Analisando dados dos voo em feriados"
      ]
    },
    {
      "cell_type": "code",
      "execution_count": null,
      "metadata": {
        "id": "x93Un9vL5qBN",
        "outputId": "28d89cae-9d9e-4fcc-a276-9fd5a8171218"
      },
      "outputs": [
        {
          "data": {
            "image/png": "[encoded data removed]",
            "text/plain": [
              "<Figure size 640x480 with 1 Axes>"
            ]
          },
          "metadata": {},
          "output_type": "display_data"
        }
      ],
      "source": [
        "average_delay = dados.groupby('is_holiday')['delay'].mean().reset_index()\n",
        "sns.barplot(x='is_holiday', y='delay', data=average_delay)\n",
        "plt.title('Feriado vs atrasos médios')\n",
        "plt.xlabel('È feriado?')\n",
        "plt.ylabel('Atraso médio em minutos')\n",
        "plt.show()"
      ]
    },
    {
      "cell_type": "markdown",
      "metadata": {
        "id": "vjPatOps5qBN"
      },
      "source": [
        "#Aeronaves"
      ]
    },
    {
      "cell_type": "code",
      "execution_count": null,
      "metadata": {
        "id": "GZmw7lqw5qBO",
        "outputId": "1a70b990-0eb9-4f96-ac54-e39346d54125"
      },
      "outputs": [
        {
          "data": {
            "image/png": "[encoded data removed]",
            "text/plain": [
              "<Figure size 640x480 with 1 Axes>"
            ]
          },
          "metadata": {},
          "output_type": "display_data"
        }
      ],
      "source": [
        "order = dados['aircraft_type'].value_counts().index\n",
        "sns.countplot(data=dados, x='aircraft_type', order = order)\n",
        "plt.title('Números de voos por tipo do aeronova')\n",
        "plt.xlabel('Tipo do aeronave')\n",
        "plt.ylabel('Números de voos')\n",
        "plt.show()"
      ]
    },
    {
      "cell_type": "markdown",
      "metadata": {
        "id": "ourguhAi5qBO"
      },
      "source": [
        "#Analisando a distribução dos dados"
      ]
    },
    {
      "cell_type": "code",
      "execution_count": null,
      "metadata": {
        "id": "efhaAhR85qBO"
      },
      "outputs": [],
      "source": [
        "#regra de freedman -  diaconis para saber a quantidade de bins necessarios"
      ]
    },
    {
      "cell_type": "code",
      "execution_count": null,
      "metadata": {
        "id": "UCK6mR8r5qBO"
      },
      "outputs": [],
      "source": [
        "import numpy as np\n",
        "\n",
        "def calcular_largura_bin(df, coluna):\n",
        "    Q75, Q25 = np.percentile(df[coluna], [75 ,25])\n",
        "    IQR = Q75 - Q25\n",
        "    largura_bin = 2 * IQR * np.power(len(df[coluna]), -1/3)\n",
        "    return largura_bin"
      ]
    },
    {
      "cell_type": "code",
      "execution_count": null,
      "metadata": {
        "id": "P161YmjP5qBP",
        "outputId": "063139d0-9826-45a9-e022-eaee52af8efd"
      },
      "outputs": [
        {
          "name": "stderr",
          "output_type": "stream",
          "text": [
            "c:\\Users\\Michael\\anaconda3\\Lib\\site-packages\\seaborn\\axisgrid.py:118: UserWarning: The figure layout has changed to tight\n",
            "  self._figure.tight_layout(*args, **kwargs)\n"
          ]
        },
        {
          "data": {
            "text/plain": [
              "<seaborn.axisgrid.FacetGrid at 0x25189308950>"
            ]
          },
          "execution_count": 15,
          "metadata": {},
          "output_type": "execute_result"
        },
        {
          "data": {
            "image/png": "[encoded data removed]",
            "text/plain": [
              "<Figure size 500x500 with 1 Axes>"
            ]
          },
          "metadata": {},
          "output_type": "display_data"
        }
      ],
      "source": [
        "largura_bin_at = calcular_largura_bin(dados, 'arrival_time')\n",
        "sns.displot(data=dados, x='arrival_time', kde=True, binwidth=largura_bin_at)"
      ]
    },
    {
      "cell_type": "code",
      "execution_count": null,
      "metadata": {
        "id": "5QEqQtgo5qBP",
        "outputId": "0bd7a258-e004-4790-976f-6530ae75851d"
      },
      "outputs": [
        {
          "name": "stderr",
          "output_type": "stream",
          "text": [
            "c:\\Users\\Michael\\anaconda3\\Lib\\site-packages\\seaborn\\axisgrid.py:118: UserWarning: The figure layout has changed to tight\n",
            "  self._figure.tight_layout(*args, **kwargs)\n"
          ]
        },
        {
          "data": {
            "text/plain": [
              "<seaborn.axisgrid.FacetGrid at 0x25189298610>"
            ]
          },
          "execution_count": 16,
          "metadata": {},
          "output_type": "execute_result"
        },
        {
          "data": {
            "image/png": "[encoded data removed]",
            "text/plain": [
              "<Figure size 500x500 with 1 Axes>"
            ]
          },
          "metadata": {},
          "output_type": "display_data"
        }
      ],
      "source": [
        "largura_bin_at = calcular_largura_bin(dados, 'departure_time')\n",
        "sns.displot(data=dados, x='departure_time', kde=True, binwidth=largura_bin_at)"
      ]
    },
    {
      "cell_type": "code",
      "execution_count": null,
      "metadata": {
        "id": "-Cbk4iRp5qBP",
        "outputId": "0bb185ca-f223-4bbd-a472-a085ea87108d"
      },
      "outputs": [
        {
          "data": {
            "image/png": "[encoded data removed]",
            "text/plain": [
              "<Figure size 900x400 with 2 Axes>"
            ]
          },
          "metadata": {},
          "output_type": "display_data"
        }
      ],
      "source": [
        "mean_delay = dados['delay'].mean()\n",
        "median_delay = dados['delay'].median()\n",
        "\n",
        "fig, axes = plt.subplots(1, 2, figsize=(9, 4))\n",
        "\n",
        "sns.boxplot(data=dados, y='delay', ax=axes[0])\n",
        "axes[0].set_title('Boxplot')\n",
        "\n",
        "axes[0].axhline(y=mean_delay, color='r', linestyle='--', label='Média')\n",
        "axes[0].legend()\n",
        "\n",
        "largura_bin_delay = calcular_largura_bin(dados, 'delay')\n",
        "sns.histplot(data=dados, x='delay', ax=axes[1], kde=True, binwidth=largura_bin_delay)\n",
        "plt.ylabel('Número de voos')\n",
        "plt.grid(False)\n",
        "axes[1].set_title('Histograma')\n",
        "\n",
        "axes[1].axvline(x=mean_delay, color='r', linestyle='--', label='Média')\n",
        "axes[1].axvline(x=median_delay, color='y', linestyle='--', label='Mediana')\n",
        "axes[1].legend()\n",
        "\n",
        "plt.tight_layout()\n",
        "plt.show()\n"
      ]
    },
    {
      "cell_type": "markdown",
      "metadata": {
        "id": "JWlsGFyI5qBP"
      },
      "source": [
        "#Novas feature"
      ]
    },
    {
      "cell_type": "code",
      "execution_count": null,
      "metadata": {
        "id": "xNvHQLpJ5qBQ",
        "outputId": "4ec2cda3-9374-46fd-d491-888304b1d879"
      },
      "outputs": [
        {
          "data": {
            "text/html": [
              "<div>\n",
              "<style scoped>\n",
              "    .dataframe tbody tr th:only-of-type {\n",
              "        vertical-align: middle;\n",
              "    }\n",
              "\n",
              "    .dataframe tbody tr th {\n",
              "        vertical-align: top;\n",
              "    }\n",
              "\n",
              "    .dataframe thead th {\n",
              "        text-align: right;\n",
              "    }\n",
              "</style>\n",
              "<table border=\"1\" class=\"dataframe\">\n",
              "  <thead>\n",
              "    <tr style=\"text-align: right;\">\n",
              "      <th></th>\n",
              "      <th>flight_id</th>\n",
              "      <th>airline</th>\n",
              "      <th>aircraft_type</th>\n",
              "      <th>schengen</th>\n",
              "      <th>origin</th>\n",
              "      <th>arrival_time</th>\n",
              "      <th>departure_time</th>\n",
              "      <th>day</th>\n",
              "      <th>year</th>\n",
              "      <th>is_holiday</th>\n",
              "      <th>delay</th>\n",
              "    </tr>\n",
              "  </thead>\n",
              "  <tbody>\n",
              "    <tr>\n",
              "      <th>0</th>\n",
              "      <td>26</td>\n",
              "      <td>MM</td>\n",
              "      <td>Airbus A320</td>\n",
              "      <td>non-schengen</td>\n",
              "      <td>TCY</td>\n",
              "      <td>8.885071</td>\n",
              "      <td>10.885071</td>\n",
              "      <td>0</td>\n",
              "      <td>2010</td>\n",
              "      <td>False</td>\n",
              "      <td>70.205981</td>\n",
              "    </tr>\n",
              "  </tbody>\n",
              "</table>\n",
              "</div>"
            ],
            "text/plain": [
              "   flight_id airline aircraft_type      schengen origin  arrival_time  \\\n",
              "0         26      MM   Airbus A320  non-schengen    TCY      8.885071   \n",
              "\n",
              "   departure_time  day  year  is_holiday      delay  \n",
              "0       10.885071    0  2010       False  70.205981  "
            ]
          },
          "execution_count": 19,
          "metadata": {},
          "output_type": "execute_result"
        }
      ],
      "source": [
        "dados.head(1)"
      ]
    },
    {
      "cell_type": "code",
      "execution_count": null,
      "metadata": {
        "id": "8_i2Fr2K5qBQ",
        "outputId": "0328f23c-0109-4797-9a57-12b0ee5f84e4"
      },
      "outputs": [
        {
          "data": {
            "text/html": [
              "<div>\n",
              "<style scoped>\n",
              "    .dataframe tbody tr th:only-of-type {\n",
              "        vertical-align: middle;\n",
              "    }\n",
              "\n",
              "    .dataframe tbody tr th {\n",
              "        vertical-align: top;\n",
              "    }\n",
              "\n",
              "    .dataframe thead th {\n",
              "        text-align: right;\n",
              "    }\n",
              "</style>\n",
              "<table border=\"1\" class=\"dataframe\">\n",
              "  <thead>\n",
              "    <tr style=\"text-align: right;\">\n",
              "      <th></th>\n",
              "      <th>flight_id</th>\n",
              "      <th>airline</th>\n",
              "      <th>aircraft_type</th>\n",
              "      <th>schengen</th>\n",
              "      <th>origin</th>\n",
              "      <th>arrival_time</th>\n",
              "      <th>departure_time</th>\n",
              "      <th>day</th>\n",
              "      <th>year</th>\n",
              "      <th>is_holiday</th>\n",
              "      <th>delay</th>\n",
              "      <th>date</th>\n",
              "    </tr>\n",
              "  </thead>\n",
              "  <tbody>\n",
              "    <tr>\n",
              "      <th>0</th>\n",
              "      <td>26</td>\n",
              "      <td>MM</td>\n",
              "      <td>Airbus A320</td>\n",
              "      <td>non-schengen</td>\n",
              "      <td>TCY</td>\n",
              "      <td>8.885071</td>\n",
              "      <td>10.885071</td>\n",
              "      <td>0</td>\n",
              "      <td>2010</td>\n",
              "      <td>False</td>\n",
              "      <td>70.205981</td>\n",
              "      <td>2010-01-01</td>\n",
              "    </tr>\n",
              "  </tbody>\n",
              "</table>\n",
              "</div>"
            ],
            "text/plain": [
              "   flight_id airline aircraft_type      schengen origin  arrival_time  \\\n",
              "0         26      MM   Airbus A320  non-schengen    TCY      8.885071   \n",
              "\n",
              "   departure_time  day  year  is_holiday      delay       date  \n",
              "0       10.885071    0  2010       False  70.205981 2010-01-01  "
            ]
          },
          "execution_count": 25,
          "metadata": {},
          "output_type": "execute_result"
        }
      ],
      "source": [
        "dados['date'] = pd.to_datetime(dados['year'].astype(str) + '-' + (dados['day']+ 1).astype(str), format='%Y-%j')\n",
        "dados.head(1)"
      ]
    },
    {
      "cell_type": "code",
      "execution_count": null,
      "metadata": {
        "id": "DWOFzP8M5qBQ"
      },
      "outputs": [],
      "source": [
        "dados['is_weekend'] = dados['date'].dt.weekday.isin([5,6])"
      ]
    },
    {
      "cell_type": "code",
      "execution_count": null,
      "metadata": {
        "id": "RO-DLU7W5qBQ",
        "outputId": "5cc06c5a-a044-4419-d9f7-517ff6310a0e"
      },
      "outputs": [
        {
          "data": {
            "text/html": [
              "<div>\n",
              "<style scoped>\n",
              "    .dataframe tbody tr th:only-of-type {\n",
              "        vertical-align: middle;\n",
              "    }\n",
              "\n",
              "    .dataframe tbody tr th {\n",
              "        vertical-align: top;\n",
              "    }\n",
              "\n",
              "    .dataframe thead th {\n",
              "        text-align: right;\n",
              "    }\n",
              "</style>\n",
              "<table border=\"1\" class=\"dataframe\">\n",
              "  <thead>\n",
              "    <tr style=\"text-align: right;\">\n",
              "      <th></th>\n",
              "      <th>flight_id</th>\n",
              "      <th>airline</th>\n",
              "      <th>aircraft_type</th>\n",
              "      <th>schengen</th>\n",
              "      <th>origin</th>\n",
              "      <th>arrival_time</th>\n",
              "      <th>departure_time</th>\n",
              "      <th>day</th>\n",
              "      <th>year</th>\n",
              "      <th>is_holiday</th>\n",
              "      <th>delay</th>\n",
              "      <th>date</th>\n",
              "      <th>is_weekend</th>\n",
              "      <th>day_name</th>\n",
              "    </tr>\n",
              "  </thead>\n",
              "  <tbody>\n",
              "    <tr>\n",
              "      <th>0</th>\n",
              "      <td>26</td>\n",
              "      <td>MM</td>\n",
              "      <td>Airbus A320</td>\n",
              "      <td>non-schengen</td>\n",
              "      <td>TCY</td>\n",
              "      <td>8.885071</td>\n",
              "      <td>10.885071</td>\n",
              "      <td>0</td>\n",
              "      <td>2010</td>\n",
              "      <td>False</td>\n",
              "      <td>70.205981</td>\n",
              "      <td>2010-01-01</td>\n",
              "      <td>False</td>\n",
              "      <td>Friday</td>\n",
              "    </tr>\n",
              "    <tr>\n",
              "      <th>1</th>\n",
              "      <td>10</td>\n",
              "      <td>YE</td>\n",
              "      <td>Airbus A320</td>\n",
              "      <td>non-schengen</td>\n",
              "      <td>TCY</td>\n",
              "      <td>8.939996</td>\n",
              "      <td>11.939996</td>\n",
              "      <td>0</td>\n",
              "      <td>2010</td>\n",
              "      <td>False</td>\n",
              "      <td>38.484609</td>\n",
              "      <td>2010-01-01</td>\n",
              "      <td>False</td>\n",
              "      <td>Friday</td>\n",
              "    </tr>\n",
              "    <tr>\n",
              "      <th>2</th>\n",
              "      <td>3</td>\n",
              "      <td>BZ</td>\n",
              "      <td>Embraer E175</td>\n",
              "      <td>schengen</td>\n",
              "      <td>TZF</td>\n",
              "      <td>18.635384</td>\n",
              "      <td>22.635384</td>\n",
              "      <td>0</td>\n",
              "      <td>2010</td>\n",
              "      <td>False</td>\n",
              "      <td>2.388305</td>\n",
              "      <td>2010-01-01</td>\n",
              "      <td>False</td>\n",
              "      <td>Friday</td>\n",
              "    </tr>\n",
              "    <tr>\n",
              "      <th>3</th>\n",
              "      <td>28</td>\n",
              "      <td>BZ</td>\n",
              "      <td>Airbus A330</td>\n",
              "      <td>non-schengen</td>\n",
              "      <td>EMM</td>\n",
              "      <td>15.967963</td>\n",
              "      <td>17.967963</td>\n",
              "      <td>0</td>\n",
              "      <td>2010</td>\n",
              "      <td>False</td>\n",
              "      <td>19.138491</td>\n",
              "      <td>2010-01-01</td>\n",
              "      <td>False</td>\n",
              "      <td>Friday</td>\n",
              "    </tr>\n",
              "    <tr>\n",
              "      <th>4</th>\n",
              "      <td>15</td>\n",
              "      <td>BZ</td>\n",
              "      <td>Airbus A330</td>\n",
              "      <td>non-schengen</td>\n",
              "      <td>FJB</td>\n",
              "      <td>16.571894</td>\n",
              "      <td>19.571894</td>\n",
              "      <td>0</td>\n",
              "      <td>2010</td>\n",
              "      <td>False</td>\n",
              "      <td>15.016271</td>\n",
              "      <td>2010-01-01</td>\n",
              "      <td>False</td>\n",
              "      <td>Friday</td>\n",
              "    </tr>\n",
              "  </tbody>\n",
              "</table>\n",
              "</div>"
            ],
            "text/plain": [
              "   flight_id airline aircraft_type      schengen origin  arrival_time  \\\n",
              "0         26      MM   Airbus A320  non-schengen    TCY      8.885071   \n",
              "1         10      YE   Airbus A320  non-schengen    TCY      8.939996   \n",
              "2          3      BZ  Embraer E175      schengen    TZF     18.635384   \n",
              "3         28      BZ   Airbus A330  non-schengen    EMM     15.967963   \n",
              "4         15      BZ   Airbus A330  non-schengen    FJB     16.571894   \n",
              "\n",
              "   departure_time  day  year  is_holiday      delay       date  is_weekend  \\\n",
              "0       10.885071    0  2010       False  70.205981 2010-01-01       False   \n",
              "1       11.939996    0  2010       False  38.484609 2010-01-01       False   \n",
              "2       22.635384    0  2010       False   2.388305 2010-01-01       False   \n",
              "3       17.967963    0  2010       False  19.138491 2010-01-01       False   \n",
              "4       19.571894    0  2010       False  15.016271 2010-01-01       False   \n",
              "\n",
              "  day_name  \n",
              "0   Friday  \n",
              "1   Friday  \n",
              "2   Friday  \n",
              "3   Friday  \n",
              "4   Friday  "
            ]
          },
          "execution_count": 29,
          "metadata": {},
          "output_type": "execute_result"
        }
      ],
      "source": [
        "dados['day_name'] = dados['date'].dt.day_name()\n",
        "dados.head()"
      ]
    },
    {
      "cell_type": "markdown",
      "metadata": {
        "id": "clQWTEIh5qBQ"
      },
      "source": [
        "#Transformação das variavaeis categoricas ONEHOTENCODER"
      ]
    },
    {
      "cell_type": "code",
      "execution_count": null,
      "metadata": {
        "id": "1cq9p9Sw5qBR",
        "outputId": "c7296940-ca69-4aa4-8bd3-013e7e8bac0f"
      },
      "outputs": [
        {
          "name": "stdout",
          "output_type": "stream",
          "text": [
            "flight_id            30\n",
            "airline               3\n",
            "aircraft_type         6\n",
            "schengen              2\n",
            "origin               10\n",
            "arrival_time         30\n",
            "departure_time       30\n",
            "day                 365\n",
            "year                 13\n",
            "is_holiday            2\n",
            "delay             71175\n",
            "date               4745\n",
            "is_weekend            2\n",
            "day_name              7\n",
            "dtype: int64\n"
          ]
        }
      ],
      "source": [
        "print(dados.nunique())"
      ]
    },
    {
      "cell_type": "code",
      "execution_count": null,
      "metadata": {
        "id": "rrMCm7DT5qBR",
        "outputId": "135ba6a1-60ad-4b16-dc76-8a1c2dec971c"
      },
      "outputs": [
        {
          "data": {
            "text/plain": [
              "array([0, 1], dtype=int64)"
            ]
          },
          "execution_count": 35,
          "metadata": {},
          "output_type": "execute_result"
        }
      ],
      "source": [
        "dados['schengen'].unique()"
      ]
    },
    {
      "cell_type": "code",
      "execution_count": null,
      "metadata": {
        "id": "oimLOH3X5qBR"
      },
      "outputs": [],
      "source": [
        "dados['schengen'] = dados['schengen'].replace({'non-schengen': 0, 'schengen': 1})"
      ]
    },
    {
      "cell_type": "code",
      "execution_count": null,
      "metadata": {
        "id": "tTe-PERJ5qBR",
        "outputId": "5683d07e-9918-4f5b-e6d1-b06790159677"
      },
      "outputs": [
        {
          "data": {
            "text/html": [
              "<div>\n",
              "<style scoped>\n",
              "    .dataframe tbody tr th:only-of-type {\n",
              "        vertical-align: middle;\n",
              "    }\n",
              "\n",
              "    .dataframe tbody tr th {\n",
              "        vertical-align: top;\n",
              "    }\n",
              "\n",
              "    .dataframe thead th {\n",
              "        text-align: right;\n",
              "    }\n",
              "</style>\n",
              "<table border=\"1\" class=\"dataframe\">\n",
              "  <thead>\n",
              "    <tr style=\"text-align: right;\">\n",
              "      <th></th>\n",
              "      <th>flight_id</th>\n",
              "      <th>airline</th>\n",
              "      <th>aircraft_type</th>\n",
              "      <th>schengen</th>\n",
              "      <th>origin</th>\n",
              "      <th>arrival_time</th>\n",
              "      <th>departure_time</th>\n",
              "      <th>day</th>\n",
              "      <th>year</th>\n",
              "      <th>is_holiday</th>\n",
              "      <th>delay</th>\n",
              "      <th>date</th>\n",
              "      <th>is_weekend</th>\n",
              "      <th>day_name</th>\n",
              "    </tr>\n",
              "  </thead>\n",
              "  <tbody>\n",
              "    <tr>\n",
              "      <th>0</th>\n",
              "      <td>26</td>\n",
              "      <td>MM</td>\n",
              "      <td>Airbus A320</td>\n",
              "      <td>0</td>\n",
              "      <td>TCY</td>\n",
              "      <td>8.885071</td>\n",
              "      <td>10.885071</td>\n",
              "      <td>0</td>\n",
              "      <td>2010</td>\n",
              "      <td>0</td>\n",
              "      <td>70.205981</td>\n",
              "      <td>2010-01-01</td>\n",
              "      <td>0</td>\n",
              "      <td>Friday</td>\n",
              "    </tr>\n",
              "    <tr>\n",
              "      <th>1</th>\n",
              "      <td>10</td>\n",
              "      <td>YE</td>\n",
              "      <td>Airbus A320</td>\n",
              "      <td>0</td>\n",
              "      <td>TCY</td>\n",
              "      <td>8.939996</td>\n",
              "      <td>11.939996</td>\n",
              "      <td>0</td>\n",
              "      <td>2010</td>\n",
              "      <td>0</td>\n",
              "      <td>38.484609</td>\n",
              "      <td>2010-01-01</td>\n",
              "      <td>0</td>\n",
              "      <td>Friday</td>\n",
              "    </tr>\n",
              "    <tr>\n",
              "      <th>2</th>\n",
              "      <td>3</td>\n",
              "      <td>BZ</td>\n",
              "      <td>Embraer E175</td>\n",
              "      <td>1</td>\n",
              "      <td>TZF</td>\n",
              "      <td>18.635384</td>\n",
              "      <td>22.635384</td>\n",
              "      <td>0</td>\n",
              "      <td>2010</td>\n",
              "      <td>0</td>\n",
              "      <td>2.388305</td>\n",
              "      <td>2010-01-01</td>\n",
              "      <td>0</td>\n",
              "      <td>Friday</td>\n",
              "    </tr>\n",
              "    <tr>\n",
              "      <th>3</th>\n",
              "      <td>28</td>\n",
              "      <td>BZ</td>\n",
              "      <td>Airbus A330</td>\n",
              "      <td>0</td>\n",
              "      <td>EMM</td>\n",
              "      <td>15.967963</td>\n",
              "      <td>17.967963</td>\n",
              "      <td>0</td>\n",
              "      <td>2010</td>\n",
              "      <td>0</td>\n",
              "      <td>19.138491</td>\n",
              "      <td>2010-01-01</td>\n",
              "      <td>0</td>\n",
              "      <td>Friday</td>\n",
              "    </tr>\n",
              "    <tr>\n",
              "      <th>4</th>\n",
              "      <td>15</td>\n",
              "      <td>BZ</td>\n",
              "      <td>Airbus A330</td>\n",
              "      <td>0</td>\n",
              "      <td>FJB</td>\n",
              "      <td>16.571894</td>\n",
              "      <td>19.571894</td>\n",
              "      <td>0</td>\n",
              "      <td>2010</td>\n",
              "      <td>0</td>\n",
              "      <td>15.016271</td>\n",
              "      <td>2010-01-01</td>\n",
              "      <td>0</td>\n",
              "      <td>Friday</td>\n",
              "    </tr>\n",
              "  </tbody>\n",
              "</table>\n",
              "</div>"
            ],
            "text/plain": [
              "   flight_id airline aircraft_type  schengen origin  arrival_time  \\\n",
              "0         26      MM   Airbus A320         0    TCY      8.885071   \n",
              "1         10      YE   Airbus A320         0    TCY      8.939996   \n",
              "2          3      BZ  Embraer E175         1    TZF     18.635384   \n",
              "3         28      BZ   Airbus A330         0    EMM     15.967963   \n",
              "4         15      BZ   Airbus A330         0    FJB     16.571894   \n",
              "\n",
              "   departure_time  day  year  is_holiday      delay       date  is_weekend  \\\n",
              "0       10.885071    0  2010           0  70.205981 2010-01-01           0   \n",
              "1       11.939996    0  2010           0  38.484609 2010-01-01           0   \n",
              "2       22.635384    0  2010           0   2.388305 2010-01-01           0   \n",
              "3       17.967963    0  2010           0  19.138491 2010-01-01           0   \n",
              "4       19.571894    0  2010           0  15.016271 2010-01-01           0   \n",
              "\n",
              "  day_name  \n",
              "0   Friday  \n",
              "1   Friday  \n",
              "2   Friday  \n",
              "3   Friday  \n",
              "4   Friday  "
            ]
          },
          "execution_count": 36,
          "metadata": {},
          "output_type": "execute_result"
        }
      ],
      "source": [
        "dados['is_holiday'] = dados['is_holiday'].replace({False: 0, True: 1})\n",
        "dados['is_weekend'] = dados['is_weekend'].replace({False: 0, True: 1})\n",
        "dados.head()"
      ]
    },
    {
      "cell_type": "code",
      "execution_count": null,
      "metadata": {
        "id": "1ZeuKsM55qBS"
      },
      "outputs": [],
      "source": [
        "variaveis_categoricas = ['airline', 'aircraft_type', 'origin', 'day_name']"
      ]
    },
    {
      "cell_type": "code",
      "execution_count": null,
      "metadata": {
        "id": "SrxuGq-C5qBS",
        "outputId": "56278b55-182f-4c62-ac49-59b66890ec98"
      },
      "outputs": [
        {
          "data": {
            "text/html": [
              "<div>\n",
              "<style scoped>\n",
              "    .dataframe tbody tr th:only-of-type {\n",
              "        vertical-align: middle;\n",
              "    }\n",
              "\n",
              "    .dataframe tbody tr th {\n",
              "        vertical-align: top;\n",
              "    }\n",
              "\n",
              "    .dataframe thead th {\n",
              "        text-align: right;\n",
              "    }\n",
              "</style>\n",
              "<table border=\"1\" class=\"dataframe\">\n",
              "  <thead>\n",
              "    <tr style=\"text-align: right;\">\n",
              "      <th></th>\n",
              "      <th>flight_id</th>\n",
              "      <th>schengen</th>\n",
              "      <th>arrival_time</th>\n",
              "      <th>departure_time</th>\n",
              "      <th>day</th>\n",
              "      <th>year</th>\n",
              "      <th>is_holiday</th>\n",
              "      <th>delay</th>\n",
              "      <th>date</th>\n",
              "      <th>is_weekend</th>\n",
              "      <th>...</th>\n",
              "      <th>origin_TCY</th>\n",
              "      <th>origin_TZF</th>\n",
              "      <th>origin_ZQO</th>\n",
              "      <th>day_name_Friday</th>\n",
              "      <th>day_name_Monday</th>\n",
              "      <th>day_name_Saturday</th>\n",
              "      <th>day_name_Sunday</th>\n",
              "      <th>day_name_Thursday</th>\n",
              "      <th>day_name_Tuesday</th>\n",
              "      <th>day_name_Wednesday</th>\n",
              "    </tr>\n",
              "  </thead>\n",
              "  <tbody>\n",
              "    <tr>\n",
              "      <th>0</th>\n",
              "      <td>26</td>\n",
              "      <td>0</td>\n",
              "      <td>8.885071</td>\n",
              "      <td>10.885071</td>\n",
              "      <td>0</td>\n",
              "      <td>2010</td>\n",
              "      <td>0</td>\n",
              "      <td>70.205981</td>\n",
              "      <td>2010-01-01</td>\n",
              "      <td>0</td>\n",
              "      <td>...</td>\n",
              "      <td>1</td>\n",
              "      <td>0</td>\n",
              "      <td>0</td>\n",
              "      <td>1</td>\n",
              "      <td>0</td>\n",
              "      <td>0</td>\n",
              "      <td>0</td>\n",
              "      <td>0</td>\n",
              "      <td>0</td>\n",
              "      <td>0</td>\n",
              "    </tr>\n",
              "    <tr>\n",
              "      <th>1</th>\n",
              "      <td>10</td>\n",
              "      <td>0</td>\n",
              "      <td>8.939996</td>\n",
              "      <td>11.939996</td>\n",
              "      <td>0</td>\n",
              "      <td>2010</td>\n",
              "      <td>0</td>\n",
              "      <td>38.484609</td>\n",
              "      <td>2010-01-01</td>\n",
              "      <td>0</td>\n",
              "      <td>...</td>\n",
              "      <td>1</td>\n",
              "      <td>0</td>\n",
              "      <td>0</td>\n",
              "      <td>1</td>\n",
              "      <td>0</td>\n",
              "      <td>0</td>\n",
              "      <td>0</td>\n",
              "      <td>0</td>\n",
              "      <td>0</td>\n",
              "      <td>0</td>\n",
              "    </tr>\n",
              "    <tr>\n",
              "      <th>2</th>\n",
              "      <td>3</td>\n",
              "      <td>1</td>\n",
              "      <td>18.635384</td>\n",
              "      <td>22.635384</td>\n",
              "      <td>0</td>\n",
              "      <td>2010</td>\n",
              "      <td>0</td>\n",
              "      <td>2.388305</td>\n",
              "      <td>2010-01-01</td>\n",
              "      <td>0</td>\n",
              "      <td>...</td>\n",
              "      <td>0</td>\n",
              "      <td>1</td>\n",
              "      <td>0</td>\n",
              "      <td>1</td>\n",
              "      <td>0</td>\n",
              "      <td>0</td>\n",
              "      <td>0</td>\n",
              "      <td>0</td>\n",
              "      <td>0</td>\n",
              "      <td>0</td>\n",
              "    </tr>\n",
              "    <tr>\n",
              "      <th>3</th>\n",
              "      <td>28</td>\n",
              "      <td>0</td>\n",
              "      <td>15.967963</td>\n",
              "      <td>17.967963</td>\n",
              "      <td>0</td>\n",
              "      <td>2010</td>\n",
              "      <td>0</td>\n",
              "      <td>19.138491</td>\n",
              "      <td>2010-01-01</td>\n",
              "      <td>0</td>\n",
              "      <td>...</td>\n",
              "      <td>0</td>\n",
              "      <td>0</td>\n",
              "      <td>0</td>\n",
              "      <td>1</td>\n",
              "      <td>0</td>\n",
              "      <td>0</td>\n",
              "      <td>0</td>\n",
              "      <td>0</td>\n",
              "      <td>0</td>\n",
              "      <td>0</td>\n",
              "    </tr>\n",
              "    <tr>\n",
              "      <th>4</th>\n",
              "      <td>15</td>\n",
              "      <td>0</td>\n",
              "      <td>16.571894</td>\n",
              "      <td>19.571894</td>\n",
              "      <td>0</td>\n",
              "      <td>2010</td>\n",
              "      <td>0</td>\n",
              "      <td>15.016271</td>\n",
              "      <td>2010-01-01</td>\n",
              "      <td>0</td>\n",
              "      <td>...</td>\n",
              "      <td>0</td>\n",
              "      <td>0</td>\n",
              "      <td>0</td>\n",
              "      <td>1</td>\n",
              "      <td>0</td>\n",
              "      <td>0</td>\n",
              "      <td>0</td>\n",
              "      <td>0</td>\n",
              "      <td>0</td>\n",
              "      <td>0</td>\n",
              "    </tr>\n",
              "  </tbody>\n",
              "</table>\n",
              "<p>5 rows × 36 columns</p>\n",
              "</div>"
            ],
            "text/plain": [
              "   flight_id  schengen  arrival_time  departure_time  day  year  is_holiday  \\\n",
              "0         26         0      8.885071       10.885071    0  2010           0   \n",
              "1         10         0      8.939996       11.939996    0  2010           0   \n",
              "2          3         1     18.635384       22.635384    0  2010           0   \n",
              "3         28         0     15.967963       17.967963    0  2010           0   \n",
              "4         15         0     16.571894       19.571894    0  2010           0   \n",
              "\n",
              "       delay       date  is_weekend  ...  origin_TCY  origin_TZF  origin_ZQO  \\\n",
              "0  70.205981 2010-01-01           0  ...           1           0           0   \n",
              "1  38.484609 2010-01-01           0  ...           1           0           0   \n",
              "2   2.388305 2010-01-01           0  ...           0           1           0   \n",
              "3  19.138491 2010-01-01           0  ...           0           0           0   \n",
              "4  15.016271 2010-01-01           0  ...           0           0           0   \n",
              "\n",
              "   day_name_Friday  day_name_Monday  day_name_Saturday  day_name_Sunday  \\\n",
              "0                1                0                  0                0   \n",
              "1                1                0                  0                0   \n",
              "2                1                0                  0                0   \n",
              "3                1                0                  0                0   \n",
              "4                1                0                  0                0   \n",
              "\n",
              "   day_name_Thursday  day_name_Tuesday  day_name_Wednesday  \n",
              "0                  0                 0                   0  \n",
              "1                  0                 0                   0  \n",
              "2                  0                 0                   0  \n",
              "3                  0                 0                   0  \n",
              "4                  0                 0                   0  \n",
              "\n",
              "[5 rows x 36 columns]"
            ]
          },
          "execution_count": 41,
          "metadata": {},
          "output_type": "execute_result"
        }
      ],
      "source": [
        "df_encoded = pd.get_dummies(data=dados, columns=variaveis_categoricas, dtype=int)\n",
        "df_encoded.head()"
      ]
    },
    {
      "cell_type": "markdown",
      "metadata": {
        "id": "Zd_IVERp5qBS"
      },
      "source": [
        "#Retirando dados irrelevantes para treinar o modelo"
      ]
    },
    {
      "cell_type": "code",
      "execution_count": null,
      "metadata": {
        "id": "Yi7uUwpe5qBS",
        "outputId": "9230356b-5769-4468-b1ba-1b6c68bc32a5"
      },
      "outputs": [
        {
          "data": {
            "text/html": [
              "<div>\n",
              "<style scoped>\n",
              "    .dataframe tbody tr th:only-of-type {\n",
              "        vertical-align: middle;\n",
              "    }\n",
              "\n",
              "    .dataframe tbody tr th {\n",
              "        vertical-align: top;\n",
              "    }\n",
              "\n",
              "    .dataframe thead th {\n",
              "        text-align: right;\n",
              "    }\n",
              "</style>\n",
              "<table border=\"1\" class=\"dataframe\">\n",
              "  <thead>\n",
              "    <tr style=\"text-align: right;\">\n",
              "      <th></th>\n",
              "      <th>arrival_time</th>\n",
              "      <th>departure_time</th>\n",
              "    </tr>\n",
              "  </thead>\n",
              "  <tbody>\n",
              "    <tr>\n",
              "      <th>arrival_time</th>\n",
              "      <td>1.000000</td>\n",
              "      <td>0.973797</td>\n",
              "    </tr>\n",
              "    <tr>\n",
              "      <th>departure_time</th>\n",
              "      <td>0.973797</td>\n",
              "      <td>1.000000</td>\n",
              "    </tr>\n",
              "  </tbody>\n",
              "</table>\n",
              "</div>"
            ],
            "text/plain": [
              "                arrival_time  departure_time\n",
              "arrival_time        1.000000        0.973797\n",
              "departure_time      0.973797        1.000000"
            ]
          },
          "execution_count": 45,
          "metadata": {},
          "output_type": "execute_result"
        }
      ],
      "source": [
        "df_encoded[['arrival_time', 'departure_time']].corr()"
      ]
    },
    {
      "cell_type": "code",
      "execution_count": null,
      "metadata": {
        "id": "RfOj63g_5qBS",
        "outputId": "7317afb6-b79a-4c79-a863-350af3355ddf"
      },
      "outputs": [
        {
          "data": {
            "text/html": [
              "<div>\n",
              "<style scoped>\n",
              "    .dataframe tbody tr th:only-of-type {\n",
              "        vertical-align: middle;\n",
              "    }\n",
              "\n",
              "    .dataframe tbody tr th {\n",
              "        vertical-align: top;\n",
              "    }\n",
              "\n",
              "    .dataframe thead th {\n",
              "        text-align: right;\n",
              "    }\n",
              "</style>\n",
              "<table border=\"1\" class=\"dataframe\">\n",
              "  <thead>\n",
              "    <tr style=\"text-align: right;\">\n",
              "      <th></th>\n",
              "      <th>schengen</th>\n",
              "      <th>arrival_time</th>\n",
              "      <th>is_holiday</th>\n",
              "      <th>delay</th>\n",
              "      <th>is_weekend</th>\n",
              "      <th>airline_BZ</th>\n",
              "      <th>airline_MM</th>\n",
              "      <th>airline_YE</th>\n",
              "      <th>aircraft_type_Airbus A320</th>\n",
              "      <th>aircraft_type_Airbus A330</th>\n",
              "      <th>...</th>\n",
              "      <th>origin_TCY</th>\n",
              "      <th>origin_TZF</th>\n",
              "      <th>origin_ZQO</th>\n",
              "      <th>day_name_Friday</th>\n",
              "      <th>day_name_Monday</th>\n",
              "      <th>day_name_Saturday</th>\n",
              "      <th>day_name_Sunday</th>\n",
              "      <th>day_name_Thursday</th>\n",
              "      <th>day_name_Tuesday</th>\n",
              "      <th>day_name_Wednesday</th>\n",
              "    </tr>\n",
              "  </thead>\n",
              "  <tbody>\n",
              "    <tr>\n",
              "      <th>0</th>\n",
              "      <td>0</td>\n",
              "      <td>8.885071</td>\n",
              "      <td>0</td>\n",
              "      <td>70.205981</td>\n",
              "      <td>0</td>\n",
              "      <td>0</td>\n",
              "      <td>1</td>\n",
              "      <td>0</td>\n",
              "      <td>1</td>\n",
              "      <td>0</td>\n",
              "      <td>...</td>\n",
              "      <td>1</td>\n",
              "      <td>0</td>\n",
              "      <td>0</td>\n",
              "      <td>1</td>\n",
              "      <td>0</td>\n",
              "      <td>0</td>\n",
              "      <td>0</td>\n",
              "      <td>0</td>\n",
              "      <td>0</td>\n",
              "      <td>0</td>\n",
              "    </tr>\n",
              "    <tr>\n",
              "      <th>1</th>\n",
              "      <td>0</td>\n",
              "      <td>8.939996</td>\n",
              "      <td>0</td>\n",
              "      <td>38.484609</td>\n",
              "      <td>0</td>\n",
              "      <td>0</td>\n",
              "      <td>0</td>\n",
              "      <td>1</td>\n",
              "      <td>1</td>\n",
              "      <td>0</td>\n",
              "      <td>...</td>\n",
              "      <td>1</td>\n",
              "      <td>0</td>\n",
              "      <td>0</td>\n",
              "      <td>1</td>\n",
              "      <td>0</td>\n",
              "      <td>0</td>\n",
              "      <td>0</td>\n",
              "      <td>0</td>\n",
              "      <td>0</td>\n",
              "      <td>0</td>\n",
              "    </tr>\n",
              "    <tr>\n",
              "      <th>2</th>\n",
              "      <td>1</td>\n",
              "      <td>18.635384</td>\n",
              "      <td>0</td>\n",
              "      <td>2.388305</td>\n",
              "      <td>0</td>\n",
              "      <td>1</td>\n",
              "      <td>0</td>\n",
              "      <td>0</td>\n",
              "      <td>0</td>\n",
              "      <td>0</td>\n",
              "      <td>...</td>\n",
              "      <td>0</td>\n",
              "      <td>1</td>\n",
              "      <td>0</td>\n",
              "      <td>1</td>\n",
              "      <td>0</td>\n",
              "      <td>0</td>\n",
              "      <td>0</td>\n",
              "      <td>0</td>\n",
              "      <td>0</td>\n",
              "      <td>0</td>\n",
              "    </tr>\n",
              "    <tr>\n",
              "      <th>3</th>\n",
              "      <td>0</td>\n",
              "      <td>15.967963</td>\n",
              "      <td>0</td>\n",
              "      <td>19.138491</td>\n",
              "      <td>0</td>\n",
              "      <td>1</td>\n",
              "      <td>0</td>\n",
              "      <td>0</td>\n",
              "      <td>0</td>\n",
              "      <td>1</td>\n",
              "      <td>...</td>\n",
              "      <td>0</td>\n",
              "      <td>0</td>\n",
              "      <td>0</td>\n",
              "      <td>1</td>\n",
              "      <td>0</td>\n",
              "      <td>0</td>\n",
              "      <td>0</td>\n",
              "      <td>0</td>\n",
              "      <td>0</td>\n",
              "      <td>0</td>\n",
              "    </tr>\n",
              "    <tr>\n",
              "      <th>4</th>\n",
              "      <td>0</td>\n",
              "      <td>16.571894</td>\n",
              "      <td>0</td>\n",
              "      <td>15.016271</td>\n",
              "      <td>0</td>\n",
              "      <td>1</td>\n",
              "      <td>0</td>\n",
              "      <td>0</td>\n",
              "      <td>0</td>\n",
              "      <td>1</td>\n",
              "      <td>...</td>\n",
              "      <td>0</td>\n",
              "      <td>0</td>\n",
              "      <td>0</td>\n",
              "      <td>1</td>\n",
              "      <td>0</td>\n",
              "      <td>0</td>\n",
              "      <td>0</td>\n",
              "      <td>0</td>\n",
              "      <td>0</td>\n",
              "      <td>0</td>\n",
              "    </tr>\n",
              "  </tbody>\n",
              "</table>\n",
              "<p>5 rows × 31 columns</p>\n",
              "</div>"
            ],
            "text/plain": [
              "   schengen  arrival_time  is_holiday      delay  is_weekend  airline_BZ  \\\n",
              "0         0      8.885071           0  70.205981           0           0   \n",
              "1         0      8.939996           0  38.484609           0           0   \n",
              "2         1     18.635384           0   2.388305           0           1   \n",
              "3         0     15.967963           0  19.138491           0           1   \n",
              "4         0     16.571894           0  15.016271           0           1   \n",
              "\n",
              "   airline_MM  airline_YE  aircraft_type_Airbus A320  \\\n",
              "0           1           0                          1   \n",
              "1           0           1                          1   \n",
              "2           0           0                          0   \n",
              "3           0           0                          0   \n",
              "4           0           0                          0   \n",
              "\n",
              "   aircraft_type_Airbus A330  ...  origin_TCY  origin_TZF  origin_ZQO  \\\n",
              "0                          0  ...           1           0           0   \n",
              "1                          0  ...           1           0           0   \n",
              "2                          0  ...           0           1           0   \n",
              "3                          1  ...           0           0           0   \n",
              "4                          1  ...           0           0           0   \n",
              "\n",
              "   day_name_Friday  day_name_Monday  day_name_Saturday  day_name_Sunday  \\\n",
              "0                1                0                  0                0   \n",
              "1                1                0                  0                0   \n",
              "2                1                0                  0                0   \n",
              "3                1                0                  0                0   \n",
              "4                1                0                  0                0   \n",
              "\n",
              "   day_name_Thursday  day_name_Tuesday  day_name_Wednesday  \n",
              "0                  0                 0                   0  \n",
              "1                  0                 0                   0  \n",
              "2                  0                 0                   0  \n",
              "3                  0                 0                   0  \n",
              "4                  0                 0                   0  \n",
              "\n",
              "[5 rows x 31 columns]"
            ]
          },
          "execution_count": 49,
          "metadata": {},
          "output_type": "execute_result"
        }
      ],
      "source": [
        "df_clean = df_encoded.drop(['flight_id', 'departure_time', 'day', 'year', 'date'], axis=1)\n",
        "df_clean.head()"
      ]
    },
    {
      "cell_type": "markdown",
      "metadata": {
        "id": "NKCSDOJn5qBT"
      },
      "source": [
        "#Base line do modelo DummyRegressor"
      ]
    },
    {
      "cell_type": "code",
      "execution_count": null,
      "metadata": {
        "id": "3BCVvP5i5qBT"
      },
      "outputs": [],
      "source": [
        "x = df_clean.drop(['delay'], axis=1)\n",
        "y = df_clean['delay']"
      ]
    },
    {
      "cell_type": "code",
      "execution_count": null,
      "metadata": {
        "id": "xUI6bAM75qBU"
      },
      "outputs": [],
      "source": [
        "from sklearn.model_selection import train_test_split\n",
        "\n",
        "x_train, x_test, y_train, y_test = train_test_split(x,y, random_state=42)"
      ]
    },
    {
      "cell_type": "code",
      "execution_count": null,
      "metadata": {
        "id": "MAhwgk1Z5qBU",
        "outputId": "9da081a0-8507-441e-c1f5-7714f235b5d7"
      },
      "outputs": [
        {
          "data": {
            "text/html": [
              "<style>#sk-container-id-1 {color: black;}#sk-container-id-1 pre{padding: 0;}#sk-container-id-1 div.sk-toggleable {background-color: white;}#sk-container-id-1 label.sk-toggleable__label {cursor: pointer;display: block;width: 100%;margin-bottom: 0;padding: 0.3em;box-sizing: border-box;text-align: center;}#sk-container-id-1 label.sk-toggleable__label-arrow:before {content: \"▸\";float: left;margin-right: 0.25em;color: #696969;}#sk-container-id-1 label.sk-toggleable__label-arrow:hover:before {color: black;}#sk-container-id-1 div.sk-estimator:hover label.sk-toggleable__label-arrow:before {color: black;}#sk-container-id-1 div.sk-toggleable__content {max-height: 0;max-width: 0;overflow: hidden;text-align: left;background-color: #f0f8ff;}#sk-container-id-1 div.sk-toggleable__content pre {margin: 0.2em;color: black;border-radius: 0.25em;background-color: #f0f8ff;}#sk-container-id-1 input.sk-toggleable__control:checked~div.sk-toggleable__content {max-height: 200px;max-width: 100%;overflow: auto;}#sk-container-id-1 input.sk-toggleable__control:checked~label.sk-toggleable__label-arrow:before {content: \"▾\";}#sk-container-id-1 div.sk-estimator input.sk-toggleable__control:checked~label.sk-toggleable__label {background-color: #d4ebff;}#sk-container-id-1 div.sk-label input.sk-toggleable__control:checked~label.sk-toggleable__label {background-color: #d4ebff;}#sk-container-id-1 input.sk-hidden--visually {border: 0;clip: rect(1px 1px 1px 1px);clip: rect(1px, 1px, 1px, 1px);height: 1px;margin: -1px;overflow: hidden;padding: 0;position: absolute;width: 1px;}#sk-container-id-1 div.sk-estimator {font-family: monospace;background-color: #f0f8ff;border: 1px dotted black;border-radius: 0.25em;box-sizing: border-box;margin-bottom: 0.5em;}#sk-container-id-1 div.sk-estimator:hover {background-color: #d4ebff;}#sk-container-id-1 div.sk-parallel-item::after {content: \"\";width: 100%;border-bottom: 1px solid gray;flex-grow: 1;}#sk-container-id-1 div.sk-label:hover label.sk-toggleable__label {background-color: #d4ebff;}#sk-container-id-1 div.sk-serial::before {content: \"\";position: absolute;border-left: 1px solid gray;box-sizing: border-box;top: 0;bottom: 0;left: 50%;z-index: 0;}#sk-container-id-1 div.sk-serial {display: flex;flex-direction: column;align-items: center;background-color: white;padding-right: 0.2em;padding-left: 0.2em;position: relative;}#sk-container-id-1 div.sk-item {position: relative;z-index: 1;}#sk-container-id-1 div.sk-parallel {display: flex;align-items: stretch;justify-content: center;background-color: white;position: relative;}#sk-container-id-1 div.sk-item::before, #sk-container-id-1 div.sk-parallel-item::before {content: \"\";position: absolute;border-left: 1px solid gray;box-sizing: border-box;top: 0;bottom: 0;left: 50%;z-index: -1;}#sk-container-id-1 div.sk-parallel-item {display: flex;flex-direction: column;z-index: 1;position: relative;background-color: white;}#sk-container-id-1 div.sk-parallel-item:first-child::after {align-self: flex-end;width: 50%;}#sk-container-id-1 div.sk-parallel-item:last-child::after {align-self: flex-start;width: 50%;}#sk-container-id-1 div.sk-parallel-item:only-child::after {width: 0;}#sk-container-id-1 div.sk-dashed-wrapped {border: 1px dashed gray;margin: 0 0.4em 0.5em 0.4em;box-sizing: border-box;padding-bottom: 0.4em;background-color: white;}#sk-container-id-1 div.sk-label label {font-family: monospace;font-weight: bold;display: inline-block;line-height: 1.2em;}#sk-container-id-1 div.sk-label-container {text-align: center;}#sk-container-id-1 div.sk-container {/* jupyter's `normalize.less` sets `[hidden] { display: none; }` but bootstrap.min.css set `[hidden] { display: none !important; }` so we also need the `!important` here to be able to override the default hidden behavior on the sphinx rendered scikit-learn.org. See: https://github.com/scikit-learn/scikit-learn/issues/21755 */display: inline-block !important;position: relative;}#sk-container-id-1 div.sk-text-repr-fallback {display: none;}</style><div id=\"sk-container-id-1\" class=\"sk-top-container\"><div class=\"sk-text-repr-fallback\"><pre>DummyRegressor()</pre><b>In a Jupyter environment, please rerun this cell to show the HTML representation or trust the notebook. <br />On GitHub, the HTML representation is unable to render, please try loading this page with nbviewer.org.</b></div><div class=\"sk-container\" hidden><div class=\"sk-item\"><div class=\"sk-estimator sk-toggleable\"><input class=\"sk-toggleable__control sk-hidden--visually\" id=\"sk-estimator-id-1\" type=\"checkbox\" checked><label for=\"sk-estimator-id-1\" class=\"sk-toggleable__label sk-toggleable__label-arrow\">DummyRegressor</label><div class=\"sk-toggleable__content\"><pre>DummyRegressor()</pre></div></div></div></div></div>"
            ],
            "text/plain": [
              "DummyRegressor()"
            ]
          },
          "execution_count": 52,
          "metadata": {},
          "output_type": "execute_result"
        }
      ],
      "source": [
        "from sklearn.dummy import DummyRegressor\n",
        "modelol_dummy = DummyRegressor()\n",
        "modelol_dummy.fit(x_train,y_train)"
      ]
    },
    {
      "cell_type": "code",
      "execution_count": null,
      "metadata": {
        "id": "Myqfu8c25qBU"
      },
      "outputs": [],
      "source": [
        "y_pred_dummy = modelol_dummy.predict(x_test)\n",
        "\n"
      ]
    },
    {
      "cell_type": "markdown",
      "metadata": {
        "id": "3cYRVdLx5qBU"
      },
      "source": [
        "#Analisando as metricas do modelo baseline"
      ]
    },
    {
      "cell_type": "code",
      "execution_count": null,
      "metadata": {
        "id": "i_0zip0V5qBV"
      },
      "outputs": [],
      "source": [
        "from sklearn.metrics import mean_squared_error, mean_absolute_error, r2_score\n",
        "\n",
        "def calcular_metricas_regressao(y_test, y_pred):\n",
        "\n",
        "    rmse = mean_squared_error(y_test, y_pred, squared=False)\n",
        "    mae = mean_absolute_error(y_test, y_pred)\n",
        "    r2 = r2_score(y_test, y_pred)\n",
        "    metricas = {\n",
        "        'Raiz do Erro Quadrático Médio': round(rmse, 4),\n",
        "        'Erro Absoluto Médio': round(mae, 4),\n",
        "        'R2 Score': round(r2, 4)\n",
        "    }\n",
        "\n",
        "    return metricas\n"
      ]
    },
    {
      "cell_type": "code",
      "execution_count": null,
      "metadata": {
        "id": "Ipu95B7O5qBV",
        "outputId": "fad58535-b300-4367-a77f-06bc11600347"
      },
      "outputs": [
        {
          "data": {
            "text/plain": [
              "{'Raiz do Erro Quadrático Médio': 23.2241,\n",
              " 'Erro Absoluto Médio': 18.6127,\n",
              " 'R2 Score': -0.0}"
            ]
          },
          "execution_count": 58,
          "metadata": {},
          "output_type": "execute_result"
        }
      ],
      "source": [
        "calcular_metricas_regressao(y_test, y_pred_dummy)"
      ]
    },
    {
      "cell_type": "markdown",
      "metadata": {
        "id": "ykPnSv4O5qBV"
      },
      "source": [
        "#Testando outro modelo RandomForestRegressor"
      ]
    },
    {
      "cell_type": "code",
      "execution_count": null,
      "metadata": {
        "id": "O-erCG1s5qBV",
        "outputId": "ee38cc6b-af0b-4945-cf2c-c161d07d5314"
      },
      "outputs": [
        {
          "data": {
            "text/plain": [
              "{'Raiz do Erro Quadrático Médio': 13.7301,\n",
              " 'Erro Absoluto Médio': 11.0138,\n",
              " 'R2 Score': 0.6505}"
            ]
          },
          "execution_count": 59,
          "metadata": {},
          "output_type": "execute_result"
        }
      ],
      "source": [
        "from sklearn.ensemble import RandomForestRegressor\n",
        "\n",
        "modelo_rf = RandomForestRegressor(max_depth=5, random_state=42)\n",
        "modelo_rf.fit(x_train,y_train)\n",
        "y_pred_dummy = modelo_rf.predict(x_test)\n",
        "calcular_metricas_regressao(y_test, y_pred_dummy)"
      ]
    },
    {
      "cell_type": "code",
      "execution_count": null,
      "metadata": {
        "id": "b0UAyckF5qBV",
        "outputId": "945229c4-d817-4675-d00c-de7ba7b7bdf8"
      },
      "outputs": [
        {
          "name": "stderr",
          "output_type": "stream",
          "text": [
            "c:\\Users\\Michael\\anaconda3\\Lib\\site-packages\\sklearn\\base.py:464: UserWarning: X does not have valid feature names, but RandomForestRegressor was fitted with feature names\n",
            "  warnings.warn(\n"
          ]
        },
        {
          "data": {
            "image/png": "[encoded data removed]",
            "text/plain": [
              "<Figure size 800x550 with 1 Axes>"
            ]
          },
          "metadata": {},
          "output_type": "display_data"
        }
      ],
      "source": [
        "from yellowbrick.regressor import prediction_error\n",
        "\n",
        "visualizer = prediction_error(modelo_rf, x_train, y_train, x_test,y_test)"
      ]
    },
    {
      "cell_type": "code",
      "execution_count": null,
      "metadata": {
        "id": "IWL0RIwR5qBW",
        "outputId": "8572b351-a010-4a77-aaeb-6c560c463954"
      },
      "outputs": [
        {
          "name": "stderr",
          "output_type": "stream",
          "text": [
            "c:\\Users\\Michael\\anaconda3\\Lib\\site-packages\\sklearn\\base.py:464: UserWarning: X does not have valid feature names, but RandomForestRegressor was fitted with feature names\n",
            "  warnings.warn(\n"
          ]
        },
        {
          "data": {
            "image/png": "[encoded data removed]",
            "text/plain": [
              "<Figure size 800x550 with 2 Axes>"
            ]
          },
          "metadata": {},
          "output_type": "display_data"
        }
      ],
      "source": [
        "from yellowbrick.regressor import residuals_plot\n",
        "viz = residuals_plot(modelo_rf, x_train, y_train, x_test,y_test)"
      ]
    },
    {
      "cell_type": "markdown",
      "metadata": {
        "id": "rV_5vHrS5qBW"
      },
      "source": [
        "#Validação cruzada"
      ]
    },
    {
      "cell_type": "code",
      "execution_count": null,
      "metadata": {
        "id": "meVuL54H5qBW",
        "outputId": "414e5d7d-fc4f-47c1-c38e-a9e625583392"
      },
      "outputs": [
        {
          "data": {
            "text/plain": [
              "{'fit_time': array([3.71569896, 3.62975502, 3.87161016, 3.90815425, 3.95714998]),\n",
              " 'score_time': array([0.08494711, 0.08394718, 0.09094429, 0.08794475, 0.08895969]),\n",
              " 'test_mae': array([-11.07421449, -11.30328674, -11.05630068, -11.14454886,\n",
              "        -11.17423931]),\n",
              " 'test_rmse': array([-13.76668658, -14.04881475, -13.79310018, -13.87672957,\n",
              "        -13.9303929 ]),\n",
              " 'test_r2': array([0.64679676, 0.62433581, 0.64536956, 0.64090813, 0.63477298])}"
            ]
          },
          "execution_count": 64,
          "metadata": {},
          "output_type": "execute_result"
        }
      ],
      "source": [
        "from sklearn.model_selection import KFold, cross_validate\n",
        "\n",
        "scoring = {\n",
        "    'mae': 'neg_mean_absolute_error',\n",
        "    'rmse': 'neg_root_mean_squared_error',\n",
        "    'r2': 'r2'\n",
        "}\n",
        "\n",
        "cv = KFold(n_splits=5, shuffle=True, random_state=42)\n",
        "\n",
        "cv_results = cross_validate(modelo_rf, x_train, y_train, cv=cv, scoring=scoring)\n",
        "cv_results\n"
      ]
    },
    {
      "cell_type": "code",
      "execution_count": null,
      "metadata": {
        "id": "oaE7lZW55qBW",
        "outputId": "07ff9e7a-d9d9-4285-c88f-68b3387522c0"
      },
      "outputs": [
        {
          "name": "stdout",
          "output_type": "stream",
          "text": [
            "(metric.upper()) Scores: [' -11.074', ' -11.303', ' -11.056', ' -11.145', ' -11.174']\n",
            "MAE Média: -11.151, Std: 0.088\n",
            "----------------------------------------------------------------------------------\n",
            "(metric.upper()) Scores: [' -13.767', ' -14.049', ' -13.793', ' -13.877', ' -13.930']\n",
            "RMSE Média: -13.883, Std: 0.101\n",
            "----------------------------------------------------------------------------------\n",
            "(metric.upper()) Scores: [' 0.647', ' 0.624', ' 0.645', ' 0.641', ' 0.635']\n",
            "R2 Média: 0.638, Std: 0.008\n",
            "----------------------------------------------------------------------------------\n"
          ]
        }
      ],
      "source": [
        "for metric in scoring.keys():\n",
        "    scores = cv_results[f'test_{metric}']\n",
        "    mean_score = \"{:.3f}\".format(scores.mean())\n",
        "    std_score = \"{:.3f}\".format(scores.std())\n",
        "\n",
        "    print(f\"(metric.upper()) Scores: {[f' {val:.3f}' for val in scores]}\")\n",
        "    print(f\"{metric.upper()} Média: {mean_score}, Std: {std_score}\")\n",
        "    print('----------------------------------------------------------------------------------')\n"
      ]
    },
    {
      "cell_type": "markdown",
      "metadata": {
        "id": "aW5hKPfK5qBX"
      },
      "source": [
        "#Otimização de hiperâmetros"
      ]
    },
    {
      "cell_type": "code",
      "execution_count": null,
      "metadata": {
        "id": "bvU91IYh5qBX",
        "outputId": "ac3e5763-2188-4128-edfb-1383f7930d20"
      },
      "outputs": [
        {
          "name": "stderr",
          "output_type": "stream",
          "text": [
            "c:\\Users\\Michael\\anaconda3\\Lib\\site-packages\\sklearn\\base.py:464: UserWarning: X does not have valid feature names, but RandomForestRegressor was fitted with feature names\n",
            "  warnings.warn(\n"
          ]
        },
        {
          "data": {
            "image/png": "[encoded data removed]",
            "text/plain": [
              "<Figure size 800x550 with 1 Axes>"
            ]
          },
          "metadata": {},
          "output_type": "display_data"
        },
        {
          "data": {
            "text/plain": [
              "<Axes: title={'center': 'Feature Importances of Top 10 Features using RandomForestRegressor'}, xlabel='feature importance'>"
            ]
          },
          "execution_count": 69,
          "metadata": {},
          "output_type": "execute_result"
        }
      ],
      "source": [
        "from yellowbrick.model_selection import FeatureImportances\n",
        "\n",
        "viz = FeatureImportances(modelo_rf, relative=False, topn=10)\n",
        "viz.fit(x_train, y_train)\n",
        "viz.show()\n"
      ]
    },
    {
      "cell_type": "code",
      "execution_count": null,
      "metadata": {
        "id": "UosEjoiA5qBX",
        "outputId": "27a8794a-b0e4-4e17-8244-a9e433dfc290"
      },
      "outputs": [
        {
          "data": {
            "text/html": [
              "<div>\n",
              "<style scoped>\n",
              "    .dataframe tbody tr th:only-of-type {\n",
              "        vertical-align: middle;\n",
              "    }\n",
              "\n",
              "    .dataframe tbody tr th {\n",
              "        vertical-align: top;\n",
              "    }\n",
              "\n",
              "    .dataframe thead th {\n",
              "        text-align: right;\n",
              "    }\n",
              "</style>\n",
              "<table border=\"1\" class=\"dataframe\">\n",
              "  <thead>\n",
              "    <tr style=\"text-align: right;\">\n",
              "      <th></th>\n",
              "      <th>Features</th>\n",
              "      <th>Importances</th>\n",
              "    </tr>\n",
              "  </thead>\n",
              "  <tbody>\n",
              "    <tr>\n",
              "      <th>4</th>\n",
              "      <td>airline_BZ</td>\n",
              "      <td>0.528604</td>\n",
              "    </tr>\n",
              "    <tr>\n",
              "      <th>2</th>\n",
              "      <td>is_holiday</td>\n",
              "      <td>0.147833</td>\n",
              "    </tr>\n",
              "    <tr>\n",
              "      <th>7</th>\n",
              "      <td>aircraft_type_Airbus A320</td>\n",
              "      <td>0.100719</td>\n",
              "    </tr>\n",
              "    <tr>\n",
              "      <th>8</th>\n",
              "      <td>aircraft_type_Airbus A330</td>\n",
              "      <td>0.058221</td>\n",
              "    </tr>\n",
              "    <tr>\n",
              "      <th>12</th>\n",
              "      <td>aircraft_type_Embraer E175</td>\n",
              "      <td>0.045619</td>\n",
              "    </tr>\n",
              "    <tr>\n",
              "      <th>1</th>\n",
              "      <td>arrival_time</td>\n",
              "      <td>0.037614</td>\n",
              "    </tr>\n",
              "    <tr>\n",
              "      <th>11</th>\n",
              "      <td>aircraft_type_Boeing 787</td>\n",
              "      <td>0.024663</td>\n",
              "    </tr>\n",
              "    <tr>\n",
              "      <th>20</th>\n",
              "      <td>origin_TCY</td>\n",
              "      <td>0.022120</td>\n",
              "    </tr>\n",
              "    <tr>\n",
              "      <th>15</th>\n",
              "      <td>origin_CSF</td>\n",
              "      <td>0.013979</td>\n",
              "    </tr>\n",
              "    <tr>\n",
              "      <th>19</th>\n",
              "      <td>origin_PUA</td>\n",
              "      <td>0.011385</td>\n",
              "    </tr>\n",
              "    <tr>\n",
              "      <th>21</th>\n",
              "      <td>origin_TZF</td>\n",
              "      <td>0.005970</td>\n",
              "    </tr>\n",
              "    <tr>\n",
              "      <th>23</th>\n",
              "      <td>day_name_Friday</td>\n",
              "      <td>0.000855</td>\n",
              "    </tr>\n",
              "    <tr>\n",
              "      <th>18</th>\n",
              "      <td>origin_MWL</td>\n",
              "      <td>0.000707</td>\n",
              "    </tr>\n",
              "    <tr>\n",
              "      <th>9</th>\n",
              "      <td>aircraft_type_Boeing 737</td>\n",
              "      <td>0.000470</td>\n",
              "    </tr>\n",
              "    <tr>\n",
              "      <th>22</th>\n",
              "      <td>origin_ZQO</td>\n",
              "      <td>0.000235</td>\n",
              "    </tr>\n",
              "    <tr>\n",
              "      <th>14</th>\n",
              "      <td>origin_CNU</td>\n",
              "      <td>0.000191</td>\n",
              "    </tr>\n",
              "    <tr>\n",
              "      <th>13</th>\n",
              "      <td>origin_AUZ</td>\n",
              "      <td>0.000166</td>\n",
              "    </tr>\n",
              "    <tr>\n",
              "      <th>28</th>\n",
              "      <td>day_name_Tuesday</td>\n",
              "      <td>0.000129</td>\n",
              "    </tr>\n",
              "    <tr>\n",
              "      <th>24</th>\n",
              "      <td>day_name_Monday</td>\n",
              "      <td>0.000114</td>\n",
              "    </tr>\n",
              "    <tr>\n",
              "      <th>10</th>\n",
              "      <td>aircraft_type_Boeing 777</td>\n",
              "      <td>0.000084</td>\n",
              "    </tr>\n",
              "    <tr>\n",
              "      <th>17</th>\n",
              "      <td>origin_FJB</td>\n",
              "      <td>0.000062</td>\n",
              "    </tr>\n",
              "    <tr>\n",
              "      <th>3</th>\n",
              "      <td>is_weekend</td>\n",
              "      <td>0.000055</td>\n",
              "    </tr>\n",
              "    <tr>\n",
              "      <th>29</th>\n",
              "      <td>day_name_Wednesday</td>\n",
              "      <td>0.000054</td>\n",
              "    </tr>\n",
              "    <tr>\n",
              "      <th>26</th>\n",
              "      <td>day_name_Sunday</td>\n",
              "      <td>0.000042</td>\n",
              "    </tr>\n",
              "    <tr>\n",
              "      <th>27</th>\n",
              "      <td>day_name_Thursday</td>\n",
              "      <td>0.000033</td>\n",
              "    </tr>\n",
              "    <tr>\n",
              "      <th>6</th>\n",
              "      <td>airline_YE</td>\n",
              "      <td>0.000025</td>\n",
              "    </tr>\n",
              "    <tr>\n",
              "      <th>25</th>\n",
              "      <td>day_name_Saturday</td>\n",
              "      <td>0.000023</td>\n",
              "    </tr>\n",
              "    <tr>\n",
              "      <th>5</th>\n",
              "      <td>airline_MM</td>\n",
              "      <td>0.000016</td>\n",
              "    </tr>\n",
              "    <tr>\n",
              "      <th>16</th>\n",
              "      <td>origin_EMM</td>\n",
              "      <td>0.000012</td>\n",
              "    </tr>\n",
              "    <tr>\n",
              "      <th>0</th>\n",
              "      <td>schengen</td>\n",
              "      <td>0.000001</td>\n",
              "    </tr>\n",
              "  </tbody>\n",
              "</table>\n",
              "</div>"
            ],
            "text/plain": [
              "                      Features  Importances\n",
              "4                   airline_BZ     0.528604\n",
              "2                   is_holiday     0.147833\n",
              "7    aircraft_type_Airbus A320     0.100719\n",
              "8    aircraft_type_Airbus A330     0.058221\n",
              "12  aircraft_type_Embraer E175     0.045619\n",
              "1                 arrival_time     0.037614\n",
              "11    aircraft_type_Boeing 787     0.024663\n",
              "20                  origin_TCY     0.022120\n",
              "15                  origin_CSF     0.013979\n",
              "19                  origin_PUA     0.011385\n",
              "21                  origin_TZF     0.005970\n",
              "23             day_name_Friday     0.000855\n",
              "18                  origin_MWL     0.000707\n",
              "9     aircraft_type_Boeing 737     0.000470\n",
              "22                  origin_ZQO     0.000235\n",
              "14                  origin_CNU     0.000191\n",
              "13                  origin_AUZ     0.000166\n",
              "28            day_name_Tuesday     0.000129\n",
              "24             day_name_Monday     0.000114\n",
              "10    aircraft_type_Boeing 777     0.000084\n",
              "17                  origin_FJB     0.000062\n",
              "3                   is_weekend     0.000055\n",
              "29          day_name_Wednesday     0.000054\n",
              "26             day_name_Sunday     0.000042\n",
              "27           day_name_Thursday     0.000033\n",
              "6                   airline_YE     0.000025\n",
              "25           day_name_Saturday     0.000023\n",
              "5                   airline_MM     0.000016\n",
              "16                  origin_EMM     0.000012\n",
              "0                     schengen     0.000001"
            ]
          },
          "execution_count": 73,
          "metadata": {},
          "output_type": "execute_result"
        }
      ],
      "source": [
        "importances = modelo_rf.feature_importances_\n",
        "feature_importances = pd.DataFrame({'Features': x.columns, 'Importances': importances})\n",
        "feature_importances.sort_values('Importances', ascending=False)"
      ]
    },
    {
      "cell_type": "code",
      "execution_count": null,
      "metadata": {
        "id": "MydXjCjU5qBX",
        "outputId": "ae85b8af-bdd2-45fa-a596-1787cb1e286b"
      },
      "outputs": [
        {
          "data": {
            "text/html": [
              "<div>\n",
              "<style scoped>\n",
              "    .dataframe tbody tr th:only-of-type {\n",
              "        vertical-align: middle;\n",
              "    }\n",
              "\n",
              "    .dataframe tbody tr th {\n",
              "        vertical-align: top;\n",
              "    }\n",
              "\n",
              "    .dataframe thead th {\n",
              "        text-align: right;\n",
              "    }\n",
              "</style>\n",
              "<table border=\"1\" class=\"dataframe\">\n",
              "  <thead>\n",
              "    <tr style=\"text-align: right;\">\n",
              "      <th></th>\n",
              "      <th>1</th>\n",
              "      <th>5</th>\n",
              "      <th>10</th>\n",
              "      <th>15</th>\n",
              "      <th>20</th>\n",
              "      <th>25</th>\n",
              "      <th>30</th>\n",
              "    </tr>\n",
              "  </thead>\n",
              "  <tbody>\n",
              "    <tr>\n",
              "      <th>RMSE</th>\n",
              "      <td>23.0970</td>\n",
              "      <td>14.9389</td>\n",
              "      <td>14.3002</td>\n",
              "      <td>13.7406</td>\n",
              "      <td>13.7387</td>\n",
              "      <td>13.7284</td>\n",
              "      <td>13.7301</td>\n",
              "    </tr>\n",
              "    <tr>\n",
              "      <th>MAE</th>\n",
              "      <td>18.5637</td>\n",
              "      <td>12.0211</td>\n",
              "      <td>11.4904</td>\n",
              "      <td>11.0253</td>\n",
              "      <td>11.0242</td>\n",
              "      <td>11.0127</td>\n",
              "      <td>11.0138</td>\n",
              "    </tr>\n",
              "    <tr>\n",
              "      <th>R2</th>\n",
              "      <td>0.0109</td>\n",
              "      <td>0.5862</td>\n",
              "      <td>0.6208</td>\n",
              "      <td>0.6499</td>\n",
              "      <td>0.6500</td>\n",
              "      <td>0.6506</td>\n",
              "      <td>0.6505</td>\n",
              "    </tr>\n",
              "  </tbody>\n",
              "</table>\n",
              "</div>"
            ],
            "text/plain": [
              "           1        5        10       15       20       25       30\n",
              "RMSE  23.0970  14.9389  14.3002  13.7406  13.7387  13.7284  13.7301\n",
              "MAE   18.5637  12.0211  11.4904  11.0253  11.0242  11.0127  11.0138\n",
              "R2     0.0109   0.5862   0.6208   0.6499   0.6500   0.6506   0.6505"
            ]
          },
          "execution_count": 74,
          "metadata": {},
          "output_type": "execute_result"
        }
      ],
      "source": [
        "results_df = pd.DataFrame(index=['RMSE', 'MAE', 'R2'])\n",
        "\n",
        "model_selected_features = RandomForestRegressor(random_state=42, max_depth=5)\n",
        "\n",
        "for count in [1, 5, 10, 15, 20, 25, 30]:\n",
        "    selected_features = feature_importances['Features'].values[:count]\n",
        "\n",
        "    X_train_selected = x_train[selected_features]\n",
        "    X_test_selected = x_test[selected_features]\n",
        "\n",
        "    model_selected_features.fit(X_train_selected, y_train)\n",
        "\n",
        "    y_pred = model_selected_features.predict(X_test_selected)\n",
        "\n",
        "    metricas = calcular_metricas_regressao(y_test, y_pred)\n",
        "\n",
        "    results_df[count] = list(metricas.values())\n",
        "\n",
        "results_df\n"
      ]
    },
    {
      "cell_type": "code",
      "execution_count": null,
      "metadata": {
        "id": "klkvnqBv5qBY",
        "outputId": "39774648-2cad-495a-bea0-2e080ae3150b"
      },
      "outputs": [
        {
          "data": {
            "text/html": [
              "<div>\n",
              "<style scoped>\n",
              "    .dataframe tbody tr th:only-of-type {\n",
              "        vertical-align: middle;\n",
              "    }\n",
              "\n",
              "    .dataframe tbody tr th {\n",
              "        vertical-align: top;\n",
              "    }\n",
              "\n",
              "    .dataframe thead th {\n",
              "        text-align: right;\n",
              "    }\n",
              "</style>\n",
              "<table border=\"1\" class=\"dataframe\">\n",
              "  <thead>\n",
              "    <tr style=\"text-align: right;\">\n",
              "      <th></th>\n",
              "      <th>1</th>\n",
              "      <th>2</th>\n",
              "      <th>3</th>\n",
              "      <th>4</th>\n",
              "      <th>5</th>\n",
              "      <th>6</th>\n",
              "      <th>7</th>\n",
              "      <th>8</th>\n",
              "      <th>9</th>\n",
              "      <th>10</th>\n",
              "      <th>11</th>\n",
              "      <th>12</th>\n",
              "      <th>13</th>\n",
              "      <th>14</th>\n",
              "      <th>15</th>\n",
              "    </tr>\n",
              "  </thead>\n",
              "  <tbody>\n",
              "    <tr>\n",
              "      <th>RMSE</th>\n",
              "      <td>23.0970</td>\n",
              "      <td>15.8286</td>\n",
              "      <td>16.0233</td>\n",
              "      <td>16.0244</td>\n",
              "      <td>14.9389</td>\n",
              "      <td>14.9386</td>\n",
              "      <td>14.9386</td>\n",
              "      <td>14.2620</td>\n",
              "      <td>14.3028</td>\n",
              "      <td>14.3002</td>\n",
              "      <td>14.3002</td>\n",
              "      <td>14.3939</td>\n",
              "      <td>13.7410</td>\n",
              "      <td>13.7410</td>\n",
              "      <td>13.7406</td>\n",
              "    </tr>\n",
              "    <tr>\n",
              "      <th>MAE</th>\n",
              "      <td>18.5637</td>\n",
              "      <td>12.6327</td>\n",
              "      <td>12.9781</td>\n",
              "      <td>12.9788</td>\n",
              "      <td>12.0211</td>\n",
              "      <td>12.0210</td>\n",
              "      <td>12.0210</td>\n",
              "      <td>11.4467</td>\n",
              "      <td>11.4926</td>\n",
              "      <td>11.4904</td>\n",
              "      <td>11.4904</td>\n",
              "      <td>11.4096</td>\n",
              "      <td>11.0256</td>\n",
              "      <td>11.0254</td>\n",
              "      <td>11.0253</td>\n",
              "    </tr>\n",
              "    <tr>\n",
              "      <th>R2</th>\n",
              "      <td>0.0109</td>\n",
              "      <td>0.5355</td>\n",
              "      <td>0.5240</td>\n",
              "      <td>0.5239</td>\n",
              "      <td>0.5862</td>\n",
              "      <td>0.5862</td>\n",
              "      <td>0.5862</td>\n",
              "      <td>0.6229</td>\n",
              "      <td>0.6207</td>\n",
              "      <td>0.6208</td>\n",
              "      <td>0.6208</td>\n",
              "      <td>0.6159</td>\n",
              "      <td>0.6499</td>\n",
              "      <td>0.6499</td>\n",
              "      <td>0.6499</td>\n",
              "    </tr>\n",
              "  </tbody>\n",
              "</table>\n",
              "</div>"
            ],
            "text/plain": [
              "           1        2        3        4        5        6        7        8   \\\n",
              "RMSE  23.0970  15.8286  16.0233  16.0244  14.9389  14.9386  14.9386  14.2620   \n",
              "MAE   18.5637  12.6327  12.9781  12.9788  12.0211  12.0210  12.0210  11.4467   \n",
              "R2     0.0109   0.5355   0.5240   0.5239   0.5862   0.5862   0.5862   0.6229   \n",
              "\n",
              "           9        10       11       12       13       14       15  \n",
              "RMSE  14.3028  14.3002  14.3002  14.3939  13.7410  13.7410  13.7406  \n",
              "MAE   11.4926  11.4904  11.4904  11.4096  11.0256  11.0254  11.0253  \n",
              "R2     0.6207   0.6208   0.6208   0.6159   0.6499   0.6499   0.6499  "
            ]
          },
          "execution_count": 75,
          "metadata": {},
          "output_type": "execute_result"
        }
      ],
      "source": [
        "results_df = pd.DataFrame(index=['RMSE', 'MAE', 'R2'])\n",
        "\n",
        "model_selected_features = RandomForestRegressor(random_state=42, max_depth=5)\n",
        "\n",
        "for count in range(1,16):\n",
        "    selected_features = feature_importances['Features'].values[:count]\n",
        "\n",
        "    X_train_selected = x_train[selected_features]\n",
        "    X_test_selected = x_test[selected_features]\n",
        "\n",
        "    model_selected_features.fit(X_train_selected, y_train)\n",
        "\n",
        "    y_pred = model_selected_features.predict(X_test_selected)\n",
        "\n",
        "    metricas = calcular_metricas_regressao(y_test, y_pred)\n",
        "\n",
        "    results_df[count] = list(metricas.values())\n",
        "\n",
        "results_df\n"
      ]
    },
    {
      "cell_type": "code",
      "execution_count": null,
      "metadata": {
        "id": "IDc49Pp75qBY",
        "outputId": "7bb05ec4-bbb8-4e4c-8e24-32dbceaa7200"
      },
      "outputs": [
        {
          "data": {
            "text/html": [
              "<div>\n",
              "<style scoped>\n",
              "    .dataframe tbody tr th:only-of-type {\n",
              "        vertical-align: middle;\n",
              "    }\n",
              "\n",
              "    .dataframe tbody tr th {\n",
              "        vertical-align: top;\n",
              "    }\n",
              "\n",
              "    .dataframe thead th {\n",
              "        text-align: right;\n",
              "    }\n",
              "</style>\n",
              "<table border=\"1\" class=\"dataframe\">\n",
              "  <thead>\n",
              "    <tr style=\"text-align: right;\">\n",
              "      <th></th>\n",
              "      <th>schengen</th>\n",
              "      <th>arrival_time</th>\n",
              "      <th>is_holiday</th>\n",
              "      <th>is_weekend</th>\n",
              "      <th>airline_BZ</th>\n",
              "      <th>airline_MM</th>\n",
              "      <th>airline_YE</th>\n",
              "      <th>aircraft_type_Airbus A320</th>\n",
              "      <th>aircraft_type_Airbus A330</th>\n",
              "      <th>aircraft_type_Boeing 737</th>\n",
              "      <th>aircraft_type_Boeing 777</th>\n",
              "      <th>aircraft_type_Boeing 787</th>\n",
              "      <th>aircraft_type_Embraer E175</th>\n",
              "    </tr>\n",
              "  </thead>\n",
              "  <tbody>\n",
              "    <tr>\n",
              "      <th>0</th>\n",
              "      <td>0</td>\n",
              "      <td>8.885071</td>\n",
              "      <td>0</td>\n",
              "      <td>0</td>\n",
              "      <td>0</td>\n",
              "      <td>1</td>\n",
              "      <td>0</td>\n",
              "      <td>1</td>\n",
              "      <td>0</td>\n",
              "      <td>0</td>\n",
              "      <td>0</td>\n",
              "      <td>0</td>\n",
              "      <td>0</td>\n",
              "    </tr>\n",
              "    <tr>\n",
              "      <th>1</th>\n",
              "      <td>0</td>\n",
              "      <td>8.939996</td>\n",
              "      <td>0</td>\n",
              "      <td>0</td>\n",
              "      <td>0</td>\n",
              "      <td>0</td>\n",
              "      <td>1</td>\n",
              "      <td>1</td>\n",
              "      <td>0</td>\n",
              "      <td>0</td>\n",
              "      <td>0</td>\n",
              "      <td>0</td>\n",
              "      <td>0</td>\n",
              "    </tr>\n",
              "    <tr>\n",
              "      <th>2</th>\n",
              "      <td>1</td>\n",
              "      <td>18.635384</td>\n",
              "      <td>0</td>\n",
              "      <td>0</td>\n",
              "      <td>1</td>\n",
              "      <td>0</td>\n",
              "      <td>0</td>\n",
              "      <td>0</td>\n",
              "      <td>0</td>\n",
              "      <td>0</td>\n",
              "      <td>0</td>\n",
              "      <td>0</td>\n",
              "      <td>1</td>\n",
              "    </tr>\n",
              "    <tr>\n",
              "      <th>3</th>\n",
              "      <td>0</td>\n",
              "      <td>15.967963</td>\n",
              "      <td>0</td>\n",
              "      <td>0</td>\n",
              "      <td>1</td>\n",
              "      <td>0</td>\n",
              "      <td>0</td>\n",
              "      <td>0</td>\n",
              "      <td>1</td>\n",
              "      <td>0</td>\n",
              "      <td>0</td>\n",
              "      <td>0</td>\n",
              "      <td>0</td>\n",
              "    </tr>\n",
              "    <tr>\n",
              "      <th>4</th>\n",
              "      <td>0</td>\n",
              "      <td>16.571894</td>\n",
              "      <td>0</td>\n",
              "      <td>0</td>\n",
              "      <td>1</td>\n",
              "      <td>0</td>\n",
              "      <td>0</td>\n",
              "      <td>0</td>\n",
              "      <td>1</td>\n",
              "      <td>0</td>\n",
              "      <td>0</td>\n",
              "      <td>0</td>\n",
              "      <td>0</td>\n",
              "    </tr>\n",
              "    <tr>\n",
              "      <th>...</th>\n",
              "      <td>...</td>\n",
              "      <td>...</td>\n",
              "      <td>...</td>\n",
              "      <td>...</td>\n",
              "      <td>...</td>\n",
              "      <td>...</td>\n",
              "      <td>...</td>\n",
              "      <td>...</td>\n",
              "      <td>...</td>\n",
              "      <td>...</td>\n",
              "      <td>...</td>\n",
              "      <td>...</td>\n",
              "      <td>...</td>\n",
              "    </tr>\n",
              "    <tr>\n",
              "      <th>71170</th>\n",
              "      <td>1</td>\n",
              "      <td>18.635384</td>\n",
              "      <td>1</td>\n",
              "      <td>1</td>\n",
              "      <td>1</td>\n",
              "      <td>0</td>\n",
              "      <td>0</td>\n",
              "      <td>0</td>\n",
              "      <td>0</td>\n",
              "      <td>0</td>\n",
              "      <td>0</td>\n",
              "      <td>0</td>\n",
              "      <td>1</td>\n",
              "    </tr>\n",
              "    <tr>\n",
              "      <th>71171</th>\n",
              "      <td>0</td>\n",
              "      <td>16.718722</td>\n",
              "      <td>1</td>\n",
              "      <td>1</td>\n",
              "      <td>1</td>\n",
              "      <td>0</td>\n",
              "      <td>0</td>\n",
              "      <td>0</td>\n",
              "      <td>1</td>\n",
              "      <td>0</td>\n",
              "      <td>0</td>\n",
              "      <td>0</td>\n",
              "      <td>0</td>\n",
              "    </tr>\n",
              "    <tr>\n",
              "      <th>71172</th>\n",
              "      <td>1</td>\n",
              "      <td>8.564949</td>\n",
              "      <td>1</td>\n",
              "      <td>1</td>\n",
              "      <td>0</td>\n",
              "      <td>1</td>\n",
              "      <td>0</td>\n",
              "      <td>0</td>\n",
              "      <td>0</td>\n",
              "      <td>0</td>\n",
              "      <td>0</td>\n",
              "      <td>1</td>\n",
              "      <td>0</td>\n",
              "    </tr>\n",
              "    <tr>\n",
              "      <th>71173</th>\n",
              "      <td>1</td>\n",
              "      <td>9.344097</td>\n",
              "      <td>1</td>\n",
              "      <td>1</td>\n",
              "      <td>1</td>\n",
              "      <td>0</td>\n",
              "      <td>0</td>\n",
              "      <td>1</td>\n",
              "      <td>0</td>\n",
              "      <td>0</td>\n",
              "      <td>0</td>\n",
              "      <td>0</td>\n",
              "      <td>0</td>\n",
              "    </tr>\n",
              "    <tr>\n",
              "      <th>71174</th>\n",
              "      <td>1</td>\n",
              "      <td>8.591208</td>\n",
              "      <td>1</td>\n",
              "      <td>1</td>\n",
              "      <td>1</td>\n",
              "      <td>0</td>\n",
              "      <td>0</td>\n",
              "      <td>0</td>\n",
              "      <td>0</td>\n",
              "      <td>1</td>\n",
              "      <td>0</td>\n",
              "      <td>0</td>\n",
              "      <td>0</td>\n",
              "    </tr>\n",
              "  </tbody>\n",
              "</table>\n",
              "<p>71175 rows × 13 columns</p>\n",
              "</div>"
            ],
            "text/plain": [
              "       schengen  arrival_time  is_holiday  is_weekend  airline_BZ  airline_MM  \\\n",
              "0             0      8.885071           0           0           0           1   \n",
              "1             0      8.939996           0           0           0           0   \n",
              "2             1     18.635384           0           0           1           0   \n",
              "3             0     15.967963           0           0           1           0   \n",
              "4             0     16.571894           0           0           1           0   \n",
              "...         ...           ...         ...         ...         ...         ...   \n",
              "71170         1     18.635384           1           1           1           0   \n",
              "71171         0     16.718722           1           1           1           0   \n",
              "71172         1      8.564949           1           1           0           1   \n",
              "71173         1      9.344097           1           1           1           0   \n",
              "71174         1      8.591208           1           1           1           0   \n",
              "\n",
              "       airline_YE  aircraft_type_Airbus A320  aircraft_type_Airbus A330  \\\n",
              "0               0                          1                          0   \n",
              "1               1                          1                          0   \n",
              "2               0                          0                          0   \n",
              "3               0                          0                          1   \n",
              "4               0                          0                          1   \n",
              "...           ...                        ...                        ...   \n",
              "71170           0                          0                          0   \n",
              "71171           0                          0                          1   \n",
              "71172           0                          0                          0   \n",
              "71173           0                          1                          0   \n",
              "71174           0                          0                          0   \n",
              "\n",
              "       aircraft_type_Boeing 737  aircraft_type_Boeing 777  \\\n",
              "0                             0                         0   \n",
              "1                             0                         0   \n",
              "2                             0                         0   \n",
              "3                             0                         0   \n",
              "4                             0                         0   \n",
              "...                         ...                       ...   \n",
              "71170                         0                         0   \n",
              "71171                         0                         0   \n",
              "71172                         0                         0   \n",
              "71173                         0                         0   \n",
              "71174                         1                         0   \n",
              "\n",
              "       aircraft_type_Boeing 787  aircraft_type_Embraer E175  \n",
              "0                             0                           0  \n",
              "1                             0                           0  \n",
              "2                             0                           1  \n",
              "3                             0                           0  \n",
              "4                             0                           0  \n",
              "...                         ...                         ...  \n",
              "71170                         0                           1  \n",
              "71171                         0                           0  \n",
              "71172                         1                           0  \n",
              "71173                         0                           0  \n",
              "71174                         0                           0  \n",
              "\n",
              "[71175 rows x 13 columns]"
            ]
          },
          "execution_count": 76,
          "metadata": {},
          "output_type": "execute_result"
        }
      ],
      "source": [
        "selected_features = feature_importances['Features'].values[:13]\n",
        "x_selected_features = x[selected_features]\n",
        "x_selected_features"
      ]
    },
    {
      "cell_type": "code",
      "execution_count": null,
      "metadata": {
        "id": "77nM6l8A5qBY"
      },
      "outputs": [],
      "source": [
        "X_train, X_test, y_train, y_test = train_test_split(x_selected_features, y, random_state=42)\n"
      ]
    },
    {
      "cell_type": "markdown",
      "metadata": {
        "id": "139qUtoO5qBZ"
      },
      "source": [
        "#Otimizando os hiperpâmetros com o GridSerachCV"
      ]
    },
    {
      "cell_type": "code",
      "execution_count": null,
      "metadata": {
        "id": "Pc7VZCvO5qBZ"
      },
      "outputs": [],
      "source": [
        "param_grid = {\n",
        "'max_depth': [5, 10, 15],\n",
        "'min_samples_leaf': [1, 2, 3],\n",
        "'min_samples_split': [2, 4, 6],\n",
        "'n_estimators': [100, 150, 200]\n",
        "}\n"
      ]
    },
    {
      "cell_type": "code",
      "execution_count": null,
      "metadata": {
        "id": "82OadvW35qBZ"
      },
      "outputs": [],
      "source": [
        "from sklearn.model_selection import GridSearchCV"
      ]
    },
    {
      "cell_type": "code",
      "execution_count": null,
      "metadata": {
        "id": "h-q_Azya5qBZ",
        "outputId": "b24c4941-8f09-48ce-a6b5-05af54631a72"
      },
      "outputs": [
        {
          "data": {
            "text/html": [
              "<style>#sk-container-id-2 {color: black;}#sk-container-id-2 pre{padding: 0;}#sk-container-id-2 div.sk-toggleable {background-color: white;}#sk-container-id-2 label.sk-toggleable__label {cursor: pointer;display: block;width: 100%;margin-bottom: 0;padding: 0.3em;box-sizing: border-box;text-align: center;}#sk-container-id-2 label.sk-toggleable__label-arrow:before {content: \"▸\";float: left;margin-right: 0.25em;color: #696969;}#sk-container-id-2 label.sk-toggleable__label-arrow:hover:before {color: black;}#sk-container-id-2 div.sk-estimator:hover label.sk-toggleable__label-arrow:before {color: black;}#sk-container-id-2 div.sk-toggleable__content {max-height: 0;max-width: 0;overflow: hidden;text-align: left;background-color: #f0f8ff;}#sk-container-id-2 div.sk-toggleable__content pre {margin: 0.2em;color: black;border-radius: 0.25em;background-color: #f0f8ff;}#sk-container-id-2 input.sk-toggleable__control:checked~div.sk-toggleable__content {max-height: 200px;max-width: 100%;overflow: auto;}#sk-container-id-2 input.sk-toggleable__control:checked~label.sk-toggleable__label-arrow:before {content: \"▾\";}#sk-container-id-2 div.sk-estimator input.sk-toggleable__control:checked~label.sk-toggleable__label {background-color: #d4ebff;}#sk-container-id-2 div.sk-label input.sk-toggleable__control:checked~label.sk-toggleable__label {background-color: #d4ebff;}#sk-container-id-2 input.sk-hidden--visually {border: 0;clip: rect(1px 1px 1px 1px);clip: rect(1px, 1px, 1px, 1px);height: 1px;margin: -1px;overflow: hidden;padding: 0;position: absolute;width: 1px;}#sk-container-id-2 div.sk-estimator {font-family: monospace;background-color: #f0f8ff;border: 1px dotted black;border-radius: 0.25em;box-sizing: border-box;margin-bottom: 0.5em;}#sk-container-id-2 div.sk-estimator:hover {background-color: #d4ebff;}#sk-container-id-2 div.sk-parallel-item::after {content: \"\";width: 100%;border-bottom: 1px solid gray;flex-grow: 1;}#sk-container-id-2 div.sk-label:hover label.sk-toggleable__label {background-color: #d4ebff;}#sk-container-id-2 div.sk-serial::before {content: \"\";position: absolute;border-left: 1px solid gray;box-sizing: border-box;top: 0;bottom: 0;left: 50%;z-index: 0;}#sk-container-id-2 div.sk-serial {display: flex;flex-direction: column;align-items: center;background-color: white;padding-right: 0.2em;padding-left: 0.2em;position: relative;}#sk-container-id-2 div.sk-item {position: relative;z-index: 1;}#sk-container-id-2 div.sk-parallel {display: flex;align-items: stretch;justify-content: center;background-color: white;position: relative;}#sk-container-id-2 div.sk-item::before, #sk-container-id-2 div.sk-parallel-item::before {content: \"\";position: absolute;border-left: 1px solid gray;box-sizing: border-box;top: 0;bottom: 0;left: 50%;z-index: -1;}#sk-container-id-2 div.sk-parallel-item {display: flex;flex-direction: column;z-index: 1;position: relative;background-color: white;}#sk-container-id-2 div.sk-parallel-item:first-child::after {align-self: flex-end;width: 50%;}#sk-container-id-2 div.sk-parallel-item:last-child::after {align-self: flex-start;width: 50%;}#sk-container-id-2 div.sk-parallel-item:only-child::after {width: 0;}#sk-container-id-2 div.sk-dashed-wrapped {border: 1px dashed gray;margin: 0 0.4em 0.5em 0.4em;box-sizing: border-box;padding-bottom: 0.4em;background-color: white;}#sk-container-id-2 div.sk-label label {font-family: monospace;font-weight: bold;display: inline-block;line-height: 1.2em;}#sk-container-id-2 div.sk-label-container {text-align: center;}#sk-container-id-2 div.sk-container {/* jupyter's `normalize.less` sets `[hidden] { display: none; }` but bootstrap.min.css set `[hidden] { display: none !important; }` so we also need the `!important` here to be able to override the default hidden behavior on the sphinx rendered scikit-learn.org. See: https://github.com/scikit-learn/scikit-learn/issues/21755 */display: inline-block !important;position: relative;}#sk-container-id-2 div.sk-text-repr-fallback {display: none;}</style><div id=\"sk-container-id-2\" class=\"sk-top-container\"><div class=\"sk-text-repr-fallback\"><pre>GridSearchCV(cv=KFold(n_splits=5, random_state=42, shuffle=True),\n",
              "             estimator=RandomForestRegressor(random_state=42),\n",
              "             param_grid={&#x27;max_depth&#x27;: [5, 10, 15],\n",
              "                         &#x27;min_samples_leaf&#x27;: [1, 2, 3],\n",
              "                         &#x27;min_samples_split&#x27;: [2, 4, 6],\n",
              "                         &#x27;n_estimators&#x27;: [100, 150, 200]},\n",
              "             scoring=&#x27;r2&#x27;)</pre><b>In a Jupyter environment, please rerun this cell to show the HTML representation or trust the notebook. <br />On GitHub, the HTML representation is unable to render, please try loading this page with nbviewer.org.</b></div><div class=\"sk-container\" hidden><div class=\"sk-item sk-dashed-wrapped\"><div class=\"sk-label-container\"><div class=\"sk-label sk-toggleable\"><input class=\"sk-toggleable__control sk-hidden--visually\" id=\"sk-estimator-id-2\" type=\"checkbox\" ><label for=\"sk-estimator-id-2\" class=\"sk-toggleable__label sk-toggleable__label-arrow\">GridSearchCV</label><div class=\"sk-toggleable__content\"><pre>GridSearchCV(cv=KFold(n_splits=5, random_state=42, shuffle=True),\n",
              "             estimator=RandomForestRegressor(random_state=42),\n",
              "             param_grid={&#x27;max_depth&#x27;: [5, 10, 15],\n",
              "                         &#x27;min_samples_leaf&#x27;: [1, 2, 3],\n",
              "                         &#x27;min_samples_split&#x27;: [2, 4, 6],\n",
              "                         &#x27;n_estimators&#x27;: [100, 150, 200]},\n",
              "             scoring=&#x27;r2&#x27;)</pre></div></div></div><div class=\"sk-parallel\"><div class=\"sk-parallel-item\"><div class=\"sk-item\"><div class=\"sk-label-container\"><div class=\"sk-label sk-toggleable\"><input class=\"sk-toggleable__control sk-hidden--visually\" id=\"sk-estimator-id-3\" type=\"checkbox\" ><label for=\"sk-estimator-id-3\" class=\"sk-toggleable__label sk-toggleable__label-arrow\">estimator: RandomForestRegressor</label><div class=\"sk-toggleable__content\"><pre>RandomForestRegressor(random_state=42)</pre></div></div></div><div class=\"sk-serial\"><div class=\"sk-item\"><div class=\"sk-estimator sk-toggleable\"><input class=\"sk-toggleable__control sk-hidden--visually\" id=\"sk-estimator-id-4\" type=\"checkbox\" ><label for=\"sk-estimator-id-4\" class=\"sk-toggleable__label sk-toggleable__label-arrow\">RandomForestRegressor</label><div class=\"sk-toggleable__content\"><pre>RandomForestRegressor(random_state=42)</pre></div></div></div></div></div></div></div></div></div></div>"
            ],
            "text/plain": [
              "GridSearchCV(cv=KFold(n_splits=5, random_state=42, shuffle=True),\n",
              "             estimator=RandomForestRegressor(random_state=42),\n",
              "             param_grid={'max_depth': [5, 10, 15],\n",
              "                         'min_samples_leaf': [1, 2, 3],\n",
              "                         'min_samples_split': [2, 4, 6],\n",
              "                         'n_estimators': [100, 150, 200]},\n",
              "             scoring='r2')"
            ]
          },
          "execution_count": 80,
          "metadata": {},
          "output_type": "execute_result"
        }
      ],
      "source": [
        "cv = KFold(n_splits=5, shuffle=True, random_state=42)\n",
        "\n",
        "model_grid = GridSearchCV(RandomForestRegressor(random_state=42), param_grid=param_grid, scoring='r2', cv=cv)\n",
        "\n",
        "model_grid.fit(x_train,y_train)"
      ]
    },
    {
      "cell_type": "code",
      "execution_count": null,
      "metadata": {
        "id": "WLpweaUh5qBa",
        "outputId": "9ea52698-a8f5-4d37-803c-eeb58c0826eb"
      },
      "outputs": [
        {
          "data": {
            "text/plain": [
              "{'max_depth': 10,\n",
              " 'min_samples_leaf': 3,\n",
              " 'min_samples_split': 2,\n",
              " 'n_estimators': 200}"
            ]
          },
          "execution_count": 81,
          "metadata": {},
          "output_type": "execute_result"
        }
      ],
      "source": [
        "model_grid.best_params_"
      ]
    },
    {
      "cell_type": "code",
      "execution_count": null,
      "metadata": {
        "id": "C2WLtCQZ5qBa",
        "outputId": "a1b9be31-6514-42ef-a5c5-87990a2a8f28"
      },
      "outputs": [
        {
          "data": {
            "text/plain": [
              "{'Raiz do Erro Quadrático Médio': 13.2309,\n",
              " 'Erro Absoluto Médio': 10.6084,\n",
              " 'R2 Score': 0.6754}"
            ]
          },
          "execution_count": 82,
          "metadata": {},
          "output_type": "execute_result"
        }
      ],
      "source": [
        "y_pred_model_grid = model_grid.predict(x_test)\n",
        "\n",
        "metricas_model_grid = calcular_metricas_regressao(y_test, y_pred_model_grid)\n",
        "metricas_model_grid"
      ]
    },
    {
      "cell_type": "code",
      "execution_count": null,
      "metadata": {
        "id": "xp_Tr1ZH5qBa",
        "outputId": "e5867d07-668b-4bbb-e962-50ee1b56740c"
      },
      "outputs": [
        {
          "data": {
            "text/html": [
              "<div>\n",
              "<style scoped>\n",
              "    .dataframe tbody tr th:only-of-type {\n",
              "        vertical-align: middle;\n",
              "    }\n",
              "\n",
              "    .dataframe tbody tr th {\n",
              "        vertical-align: top;\n",
              "    }\n",
              "\n",
              "    .dataframe thead th {\n",
              "        text-align: right;\n",
              "    }\n",
              "</style>\n",
              "<table border=\"1\" class=\"dataframe\">\n",
              "  <thead>\n",
              "    <tr style=\"text-align: right;\">\n",
              "      <th></th>\n",
              "      <th>1</th>\n",
              "      <th>2</th>\n",
              "      <th>3</th>\n",
              "      <th>4</th>\n",
              "      <th>5</th>\n",
              "      <th>6</th>\n",
              "      <th>7</th>\n",
              "      <th>8</th>\n",
              "      <th>9</th>\n",
              "      <th>10</th>\n",
              "      <th>11</th>\n",
              "      <th>12</th>\n",
              "      <th>13</th>\n",
              "      <th>14</th>\n",
              "      <th>15</th>\n",
              "      <th>model_grid</th>\n",
              "    </tr>\n",
              "  </thead>\n",
              "  <tbody>\n",
              "    <tr>\n",
              "      <th>RMSE</th>\n",
              "      <td>23.0970</td>\n",
              "      <td>15.8286</td>\n",
              "      <td>16.0233</td>\n",
              "      <td>16.0244</td>\n",
              "      <td>14.9389</td>\n",
              "      <td>14.9386</td>\n",
              "      <td>14.9386</td>\n",
              "      <td>14.2620</td>\n",
              "      <td>14.3028</td>\n",
              "      <td>14.3002</td>\n",
              "      <td>14.3002</td>\n",
              "      <td>14.3939</td>\n",
              "      <td>13.7410</td>\n",
              "      <td>13.7410</td>\n",
              "      <td>13.7406</td>\n",
              "      <td>13.2309</td>\n",
              "    </tr>\n",
              "    <tr>\n",
              "      <th>MAE</th>\n",
              "      <td>18.5637</td>\n",
              "      <td>12.6327</td>\n",
              "      <td>12.9781</td>\n",
              "      <td>12.9788</td>\n",
              "      <td>12.0211</td>\n",
              "      <td>12.0210</td>\n",
              "      <td>12.0210</td>\n",
              "      <td>11.4467</td>\n",
              "      <td>11.4926</td>\n",
              "      <td>11.4904</td>\n",
              "      <td>11.4904</td>\n",
              "      <td>11.4096</td>\n",
              "      <td>11.0256</td>\n",
              "      <td>11.0254</td>\n",
              "      <td>11.0253</td>\n",
              "      <td>10.6084</td>\n",
              "    </tr>\n",
              "    <tr>\n",
              "      <th>R2</th>\n",
              "      <td>0.0109</td>\n",
              "      <td>0.5355</td>\n",
              "      <td>0.5240</td>\n",
              "      <td>0.5239</td>\n",
              "      <td>0.5862</td>\n",
              "      <td>0.5862</td>\n",
              "      <td>0.5862</td>\n",
              "      <td>0.6229</td>\n",
              "      <td>0.6207</td>\n",
              "      <td>0.6208</td>\n",
              "      <td>0.6208</td>\n",
              "      <td>0.6159</td>\n",
              "      <td>0.6499</td>\n",
              "      <td>0.6499</td>\n",
              "      <td>0.6499</td>\n",
              "      <td>0.6754</td>\n",
              "    </tr>\n",
              "  </tbody>\n",
              "</table>\n",
              "</div>"
            ],
            "text/plain": [
              "            1        2        3        4        5        6        7        8  \\\n",
              "RMSE  23.0970  15.8286  16.0233  16.0244  14.9389  14.9386  14.9386  14.2620   \n",
              "MAE   18.5637  12.6327  12.9781  12.9788  12.0211  12.0210  12.0210  11.4467   \n",
              "R2     0.0109   0.5355   0.5240   0.5239   0.5862   0.5862   0.5862   0.6229   \n",
              "\n",
              "            9       10       11       12       13       14       15  \\\n",
              "RMSE  14.3028  14.3002  14.3002  14.3939  13.7410  13.7410  13.7406   \n",
              "MAE   11.4926  11.4904  11.4904  11.4096  11.0256  11.0254  11.0253   \n",
              "R2     0.6207   0.6208   0.6208   0.6159   0.6499   0.6499   0.6499   \n",
              "\n",
              "      model_grid  \n",
              "RMSE     13.2309  \n",
              "MAE      10.6084  \n",
              "R2        0.6754  "
            ]
          },
          "execution_count": 83,
          "metadata": {},
          "output_type": "execute_result"
        }
      ],
      "source": [
        "results_df['model_grid'] = list(metricas_model_grid.values())\n",
        "results_df"
      ]
    },
    {
      "cell_type": "markdown",
      "metadata": {
        "id": "s7YnWbwE5qBa"
      },
      "source": [
        "#Salvando modelo"
      ]
    },
    {
      "cell_type": "code",
      "execution_count": null,
      "metadata": {
        "id": "NDDDOGAL5qBb"
      },
      "outputs": [],
      "source": [
        "import pickle"
      ]
    },
    {
      "cell_type": "code",
      "execution_count": null,
      "metadata": {
        "id": "AT7dJQIk5qBb",
        "outputId": "dc9a5c62-a1f7-4d81-af8f-3414f85dad62"
      },
      "outputs": [
        {
          "name": "stdout",
          "output_type": "stream",
          "text": [
            "Modelo salvo com sucesso!!\n"
          ]
        }
      ],
      "source": [
        "try:\n",
        " with open('model_producao.pkl', 'wb') as file:\n",
        "  pickle.dump(model_grid.best_estimator_, file)\n",
        " print('Modelo salvo com sucesso!!')\n",
        "\n",
        "except Exception as e:\n",
        " print(\"Erro ao salvar o modelo\", str(e))"
      ]
    },
    {
      "cell_type": "code",
      "execution_count": null,
      "metadata": {
        "id": "vkTNbWM95qBb"
      },
      "outputs": [],
      "source": []
    }
  ],
  "metadata": {
    "kernelspec": {
      "display_name": "Python 3",
      "language": "python",
      "name": "python3"
    },
    "language_info": {
      "codemirror_mode": {
        "name": "ipython",
        "version": 3
      },
      "file_extension": ".py",
      "mimetype": "text/x-python",
      "name": "python",
      "nbconvert_exporter": "python",
      "pygments_lexer": "ipython3",
      "version": "3.11.5"
    },
    "colab": {
      "provenance": [],
      "include_colab_link": true
    }
  },
  "nbformat": 4,
  "nbformat_minor": 0
}